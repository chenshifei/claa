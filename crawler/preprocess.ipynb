{
 "nbformat": 4,
 "nbformat_minor": 2,
 "metadata": {
  "language_info": {
   "name": "python",
   "codemirror_mode": {
    "name": "ipython",
    "version": 3
   },
   "version": "3.7.5"
  },
  "orig_nbformat": 2,
  "file_extension": ".py",
  "mimetype": "text/x-python",
  "name": "python",
  "npconvert_exporter": "python",
  "pygments_lexer": "ipython3",
  "version": 3
 },
 "cells": [
  {
   "cell_type": "markdown",
   "execution_count": null,
   "metadata": {},
   "outputs": [],
   "source": [
    "## Preprocess the tweets"
   ]
  },
  {
   "cell_type": "code",
   "execution_count": 1,
   "metadata": {},
   "outputs": [
    {
     "data": {
      "text/plain": "(69519, 3)"
     },
     "execution_count": 1,
     "metadata": {},
     "output_type": "execute_result"
    }
   ],
   "source": [
    "import pandas as pd\n",
    "import preprocessor as p\n",
    "\n",
    "df = pd.read_csv('../data/tweets_original.csv')\n",
    "df.shape"
   ]
  },
  {
   "cell_type": "code",
   "execution_count": 2,
   "metadata": {},
   "outputs": [
    {
     "data": {
      "text/html": "<div>\n<style scoped>\n    .dataframe tbody tr th:only-of-type {\n        vertical-align: middle;\n    }\n\n    .dataframe tbody tr th {\n        vertical-align: top;\n    }\n\n    .dataframe thead th {\n        text-align: right;\n    }\n</style>\n<table border=\"1\" class=\"dataframe\">\n  <thead>\n    <tr style=\"text-align: right;\">\n      <th></th>\n      <th>id_str</th>\n      <th>screen_name</th>\n      <th>raw_text</th>\n      <th>clean_text</th>\n    </tr>\n  </thead>\n  <tbody>\n    <tr>\n      <th>0</th>\n      <td>1193152895337689088</td>\n      <td>YXSzzzz</td>\n      <td>@gww067 Haha there is no way Ryza is not cute 😂</td>\n      <td>Haha there is no way Ryza is not cute</td>\n    </tr>\n    <tr>\n      <th>1</th>\n      <td>1193152895337689088</td>\n      <td>YXSzzzz</td>\n      <td>@somberness :DDD</td>\n      <td></td>\n    </tr>\n    <tr>\n      <th>2</th>\n      <td>1193152895337689088</td>\n      <td>YXSzzzz</td>\n      <td>@IthzelDoe Love. 🤣</td>\n      <td>Love. 🤣</td>\n    </tr>\n    <tr>\n      <th>3</th>\n      <td>1193152895337689088</td>\n      <td>YXSzzzz</td>\n      <td>😮😮😮 https://t.co/l4jcdkz67Z</td>\n      <td></td>\n    </tr>\n    <tr>\n      <th>4</th>\n      <td>1193152895337689088</td>\n      <td>YXSzzzz</td>\n      <td>@Kyonko802 😮</td>\n      <td></td>\n    </tr>\n  </tbody>\n</table>\n</div>",
      "text/plain": "                id_str screen_name  \\\n0  1193152895337689088     YXSzzzz   \n1  1193152895337689088     YXSzzzz   \n2  1193152895337689088     YXSzzzz   \n3  1193152895337689088     YXSzzzz   \n4  1193152895337689088     YXSzzzz   \n\n                                          raw_text  \\\n0  @gww067 Haha there is no way Ryza is not cute 😂   \n1                                 @somberness :DDD   \n2                               @IthzelDoe Love. 🤣   \n3                      😮😮😮 https://t.co/l4jcdkz67Z   \n4                                     @Kyonko802 😮   \n\n                              clean_text  \n0  Haha there is no way Ryza is not cute  \n1                                         \n2                                Love. 🤣  \n3                                         \n4                                         "
     },
     "execution_count": 2,
     "metadata": {},
     "output_type": "execute_result"
    }
   ],
   "source": [
    "df['clean_text'] = df['raw_text'].apply(p.clean)\n",
    "df.head()"
   ]
  },
  {
   "cell_type": "code",
   "execution_count": 3,
   "metadata": {},
   "outputs": [
    {
     "data": {
      "text/plain": "(64888, 4)"
     },
     "execution_count": 3,
     "metadata": {},
     "output_type": "execute_result"
    }
   ],
   "source": [
    "import numpy as np\n",
    "\n",
    "df = df.replace(r'^\\s*$', np.nan, regex=True)\n",
    "df = df.dropna()\n",
    "df.shape"
   ]
  },
  {
   "cell_type": "markdown",
   "execution_count": null,
   "metadata": {},
   "outputs": [],
   "source": [
    "## Vectorize the tweets"
   ]
  },
  {
   "cell_type": "code",
   "execution_count": 66,
   "metadata": {},
   "outputs": [],
   "source": [
    "from polyglot.text import Text\n",
    "from sklearn.feature_extraction.text import CountVectorizer, TfidfTransformer\n",
    "from sklearn.model_selection import KFold\n",
    "\n",
    "X = df.clean_text\n",
    "y = df.screen_name\n",
    "\n",
    "def ploy_tokenizer(raw_text):\n",
    "    return Text(raw_text).words\n",
    "\n",
    "count_vectorizer = CountVectorizer(tokenizer=ploy_tokenizer)\n",
    "tf_transformer = TfidfTransformer()\n",
    "\n",
    "kf = KFold(n_splits=10, shuffle=True, random_state=1)"
   ]
  },
  {
   "cell_type": "markdown",
   "execution_count": null,
   "metadata": {},
   "outputs": [],
   "source": [
    "## Classification"
   ]
  },
  {
   "cell_type": "code",
   "execution_count": 77,
   "metadata": {},
   "outputs": [],
   "source": [
    "import logging\n",
    "\n",
    "from sklearn.model_selection import GridSearchCV\n",
    "from sklearn.naive_bayes import MultinomialNB\n",
    "from sklearn.linear_model import LogisticRegression\n",
    "from sklearn.svm import LinearSVC\n",
    "from sklearn.pipeline import Pipeline\n",
    "from sklearn import metrics\n",
    "\n",
    "logging.getLogger().setLevel(logging.ERROR)\n",
    "\n",
    "nb = MultinomialNB()\n",
    "lr = LogisticRegression(solver='liblinear', multi_class='auto')\n",
    "svm = LinearSVC()\n",
    "\n",
    "scoring = ['accuracy', 'precision_macro', 'recall_macro', 'f1_macro']\n",
    "\n",
    "def tokenize_test_pipeline(model):\n",
    "    pipe = Pipeline([\n",
    "        ('count', count_vectorizer),\n",
    "        ('tfidf', tf_transformer),\n",
    "        ('clf', globals()[model]),\n",
    "    ])\n",
    "\n",
    "    params = {\n",
    "        'count__ngram_range': [(1, 1), (1, 2), (1, 3), (1, 4), (1, 5)],\n",
    "        'count__analyzer': ['word', 'char'],\n",
    "    }\n",
    "\n",
    "    algorithm = ''\n",
    "    if model.startswith('lr'):\n",
    "        algorithm = 'Logistic Regression'\n",
    "    elif model.startswith('nb'):\n",
    "        algorithm = 'Multinomial Naive Bayes'\n",
    "    elif model.startswith('svm'):\n",
    "        algorithm = 'Linear SVM'\n",
    "\n",
    "    gd_clf = GridSearchCV(pipe, params, cv=10, scoring=scoring, n_jobs=-1, refit='f1_macro')\n",
    "    gd_clf.fit(X, y)\n",
    "\n",
    "    print(algorithm)\n",
    "    print('------------------')\n",
    "    print('Scores: ')\n",
    "    print(gd_clf.cv_results_)\n",
    "    print('Best params:')\n",
    "    print(gd_clf.best_params_)\n",
    "    print('Best score:')\n",
    "    print(gd_clf.best_score)"
   ]
  },
  {
   "cell_type": "markdown",
   "execution_count": null,
   "metadata": {},
   "outputs": [],
   "source": [
    "### Naive Bayes"
   ]
  },
  {
   "cell_type": "code",
   "execution_count": 75,
   "metadata": {},
   "outputs": [
    {
     "name": "stdout",
     "output_type": "stream",
     "text": "Multinomial Naive Bayes\n------------------\nScores: \n{'mean_fit_time': array([ 22.82143555,  54.0353518 ,  89.37386882, 116.17271426,\n       166.75812354,   5.2865149 ,  13.01191733,  28.52952027,\n        49.60075006,  84.00029309]), 'std_fit_time': array([ 0.51038264,  1.56401284,  5.77294014,  4.50866494, 12.90599934,\n        1.15951596,  0.38834506,  1.42791471,  2.55377926, 20.5300274 ]), 'mean_score_time': array([10.34100204, 21.44172318, 33.2644012 , 49.1438055 , 76.52168016,\n        2.64268632,  5.2288317 , 12.6390388 , 18.72427282, 57.66140523]), 'std_score_time': array([ 0.56706378,  1.85646073,  4.64300491,  9.24574801, 17.5837646 ,\n        0.64748692,  0.39634994,  2.37079997,  3.46028468, 28.57153615]), 'param_count__analyzer': masked_array(data=['word', 'word', 'word', 'word', 'word', 'char', 'char',\n                   'char', 'char', 'char'],\n             mask=[False, False, False, False, False, False, False, False,\n                   False, False],\n       fill_value='?',\n            dtype=object), 'param_count__ngram_range': masked_array(data=[(1, 1), (1, 2), (1, 3), (1, 4), (1, 5), (1, 1), (1, 2),\n                   (1, 3), (1, 4), (1, 5)],\n             mask=[False, False, False, False, False, False, False, False,\n                   False, False],\n       fill_value='?',\n            dtype=object), 'params': [{'count__analyzer': 'word', 'count__ngram_range': (1, 1)}, {'count__analyzer': 'word', 'count__ngram_range': (1, 2)}, {'count__analyzer': 'word', 'count__ngram_range': (1, 3)}, {'count__analyzer': 'word', 'count__ngram_range': (1, 4)}, {'count__analyzer': 'word', 'count__ngram_range': (1, 5)}, {'count__analyzer': 'char', 'count__ngram_range': (1, 1)}, {'count__analyzer': 'char', 'count__ngram_range': (1, 2)}, {'count__analyzer': 'char', 'count__ngram_range': (1, 3)}, {'count__analyzer': 'char', 'count__ngram_range': (1, 4)}, {'count__analyzer': 'char', 'count__ngram_range': (1, 5)}], 'split0_test_accuracy': array([0.48348441, 0.49101244, 0.49039791, 0.48717161, 0.48394531,\n       0.32785374, 0.32524197, 0.35074512, 0.36795207, 0.3754801 ]), 'split1_test_accuracy': array([0.54411313, 0.55533354, 0.55348909, 0.55133723, 0.54826314,\n       0.36151245, 0.37242545, 0.41192745, 0.4352905 , 0.44789425]), 'split2_test_accuracy': array([0.53614273, 0.55106121, 0.54690864, 0.54444786, 0.54290987,\n       0.34681636, 0.3551215 , 0.3951092 , 0.42571516, 0.44417102]), 'split3_test_accuracy': array([0.56687702, 0.57595813, 0.57226412, 0.56872403, 0.5657996 ,\n       0.36493766, 0.36693859, 0.41434508, 0.44451285, 0.46329075]), 'split4_test_accuracy': array([0.5723968 , 0.57686383, 0.57162662, 0.5680838 , 0.5663894 ,\n       0.37045595, 0.3823167 , 0.4271411 , 0.45040049, 0.46395564]), 'split5_test_accuracy': array([0.58402714, 0.58556892, 0.57893925, 0.57539315, 0.57246377,\n       0.36370644, 0.37881591, 0.42614863, 0.4546716 , 0.47101449]), 'split6_test_accuracy': array([0.60506017, 0.60860845, 0.60552299, 0.60151188, 0.59935205,\n       0.36886763, 0.3795125 , 0.43721074, 0.46667695, 0.48765813]), 'split7_test_accuracy': array([0.5994441 , 0.60160593, 0.59620136, 0.59203212, 0.58987029,\n       0.39592341, 0.39546016, 0.44348363, 0.47143298, 0.48780111]), 'split8_test_accuracy': array([0.58321743, 0.58847164, 0.58368104, 0.57981765, 0.57595426,\n       0.36300417, 0.3713491 , 0.42389121, 0.45927986, 0.47782414]), 'split9_test_accuracy': array([0.51724138, 0.52559146, 0.51909695, 0.51383949, 0.51152002,\n       0.34297201, 0.36137313, 0.392454  , 0.41549405, 0.43745168]), 'mean_test_accuracy': array([0.55916348, 0.56597522, 0.56178338, 0.55820799, 0.55561891,\n       0.36059056, 0.36883553, 0.41221798, 0.43911047, 0.45561583]), 'std_test_accuracy': array([0.03661721, 0.03433408, 0.03360233, 0.03353381, 0.0336224 ,\n       0.01738266, 0.01809929, 0.02574913, 0.02904454, 0.03143009]), 'rank_test_accuracy': array([ 3,  1,  2,  4,  5, 10,  9,  8,  7,  6], dtype=int32), 'split0_test_precision_macro': array([0.37961342, 0.39789289, 0.39818897, 0.39644193, 0.37401374,\n       0.28442333, 0.27783409, 0.30041315, 0.29346147, 0.30586594]), 'split1_test_precision_macro': array([0.4471048 , 0.43748237, 0.46059471, 0.46135436, 0.46120438,\n       0.31586934, 0.34244266, 0.36896183, 0.36784647, 0.38409253]), 'split2_test_precision_macro': array([0.49515763, 0.43471599, 0.4350619 , 0.45593942, 0.47850613,\n       0.36012716, 0.36707402, 0.35893021, 0.37717699, 0.37044453]), 'split3_test_precision_macro': array([0.40255034, 0.43666866, 0.43840728, 0.43861313, 0.43935266,\n       0.3513886 , 0.35895331, 0.3859699 , 0.38109185, 0.39686693]), 'split4_test_precision_macro': array([0.43391305, 0.44343871, 0.48848436, 0.48827465, 0.48340191,\n       0.35473101, 0.35745825, 0.38525274, 0.36225547, 0.4102558 ]), 'split5_test_precision_macro': array([0.42539592, 0.4386258 , 0.4505094 , 0.45537149, 0.45419258,\n       0.35386703, 0.38655062, 0.38107417, 0.40607528, 0.40426902]), 'split6_test_precision_macro': array([0.46431307, 0.47291123, 0.49457216, 0.46945069, 0.4896341 ,\n       0.34618284, 0.36229048, 0.39176535, 0.39172668, 0.44078452]), 'split7_test_precision_macro': array([0.48998715, 0.47537795, 0.47249486, 0.47364939, 0.49385053,\n       0.37959274, 0.36722069, 0.41533672, 0.42822506, 0.43144645]), 'split8_test_precision_macro': array([0.47960086, 0.46553141, 0.46599232, 0.50495897, 0.50464428,\n       0.34881963, 0.34266799, 0.37517361, 0.37443   , 0.40720544]), 'split9_test_precision_macro': array([0.41283892, 0.43892831, 0.41678659, 0.42075994, 0.42343875,\n       0.34184554, 0.3225727 , 0.36088468, 0.33019066, 0.40365126]), 'mean_test_precision_macro': array([0.44302327, 0.44412522, 0.45209097, 0.4564572 , 0.46019027,\n       0.34365519, 0.34849195, 0.37234476, 0.37122292, 0.39543495]), 'std_test_precision_macro': array([0.03701841, 0.02156356, 0.02906175, 0.03008293, 0.03756346,\n       0.02485431, 0.02876154, 0.02858514, 0.03585499, 0.03557574]), 'rank_test_precision_macro': array([ 5,  4,  3,  2,  1, 10,  9,  7,  8,  6], dtype=int32), 'split0_test_recall_macro': array([0.24885009, 0.25269671, 0.25201647, 0.24933139, 0.24749661,\n       0.16390442, 0.15356659, 0.16868914, 0.17899973, 0.18388429]), 'split1_test_recall_macro': array([0.27834079, 0.2864783 , 0.28716215, 0.28512089, 0.28305261,\n       0.18086488, 0.17943561, 0.20165029, 0.21584546, 0.22351085]), 'split2_test_recall_macro': array([0.28206763, 0.2903583 , 0.28909949, 0.28742422, 0.28677514,\n       0.18003488, 0.17467539, 0.1974839 , 0.21556664, 0.22658419]), 'split3_test_recall_macro': array([0.29531799, 0.30254987, 0.29984327, 0.29711546, 0.29491695,\n       0.19260001, 0.18203992, 0.20848458, 0.22603399, 0.23707758]), 'split4_test_recall_macro': array([0.29938703, 0.30090838, 0.29936905, 0.29713752, 0.29575955,\n       0.19430354, 0.18661761, 0.21300451, 0.22700659, 0.23668729]), 'split5_test_recall_macro': array([0.30605816, 0.30580081, 0.30069022, 0.29877369, 0.29654374,\n       0.18944193, 0.18761177, 0.2124103 , 0.22761919, 0.23801559]), 'split6_test_recall_macro': array([0.32449748, 0.32421576, 0.32423465, 0.3213982 , 0.31959972,\n       0.1928825 , 0.19216812, 0.22307025, 0.23853159, 0.25120344]), 'split7_test_recall_macro': array([0.33365156, 0.33389274, 0.33048426, 0.32706727, 0.3254678 ,\n       0.21071099, 0.20145103, 0.24180547, 0.25640832, 0.26673014]), 'split8_test_recall_macro': array([0.32268028, 0.32483845, 0.32243995, 0.32228425, 0.3249459 ,\n       0.19368156, 0.18973663, 0.21904175, 0.25063991, 0.26780675]), 'split9_test_recall_macro': array([0.2805492 , 0.29404477, 0.28868499, 0.28477109, 0.28281688,\n       0.18263657, 0.18107163, 0.19667983, 0.20823249, 0.24442635]), 'mean_test_recall_macro': array([0.29710493, 0.30154422, 0.2993709 , 0.29701109, 0.29570511,\n       0.1880912 , 0.18281969, 0.20820859, 0.22446083, 0.23755207]), 'std_test_recall_macro': array([0.02451934, 0.02218334, 0.02175952, 0.02190754, 0.02246261,\n       0.01165935, 0.01207829, 0.01833691, 0.02099551, 0.02281311]), 'rank_test_recall_macro': array([ 3,  1,  2,  4,  5,  9, 10,  8,  7,  6], dtype=int32), 'split0_test_f1_macro': array([0.2318096 , 0.23621709, 0.23602542, 0.23281362, 0.23129222,\n       0.15627208, 0.14271226, 0.16056017, 0.16931535, 0.17350419]), 'split1_test_f1_macro': array([0.25957094, 0.27053563, 0.27285722, 0.27039011, 0.26851539,\n       0.17859747, 0.17529216, 0.19703892, 0.20913256, 0.21412601]), 'split2_test_f1_macro': array([0.27122094, 0.28012647, 0.28117802, 0.27957513, 0.27987565,\n       0.18685004, 0.17537286, 0.20052749, 0.21478072, 0.22340944]), 'split3_test_f1_macro': array([0.27608576, 0.28749728, 0.28422458, 0.28167926, 0.27953903,\n       0.20115565, 0.18657349, 0.21267634, 0.22610688, 0.23400464]), 'split4_test_f1_macro': array([0.28339776, 0.28506757, 0.28631248, 0.2842598 , 0.2830461 ,\n       0.19885359, 0.18411891, 0.21275579, 0.22301577, 0.23231658]), 'split5_test_f1_macro': array([0.29050986, 0.29061752, 0.28473213, 0.28339323, 0.28069437,\n       0.19492658, 0.18966307, 0.21263134, 0.22614299, 0.23525633]), 'split6_test_f1_macro': array([0.31444741, 0.3131404 , 0.31534262, 0.3120883 , 0.31018382,\n       0.19643932, 0.19896116, 0.22973938, 0.24222558, 0.25405736]), 'split7_test_f1_macro': array([0.32238657, 0.32399785, 0.32072286, 0.31656747, 0.31503842,\n       0.21531483, 0.20644576, 0.24770816, 0.25753144, 0.26746201]), 'split8_test_f1_macro': array([0.30790897, 0.31162118, 0.31029154, 0.31243784, 0.31677543,\n       0.1968469 , 0.19553713, 0.22778507, 0.25248531, 0.26900454]), 'split9_test_f1_macro': array([0.27390004, 0.28599379, 0.27988878, 0.27583981, 0.27374691,\n       0.18905222, 0.18398476, 0.20068807, 0.20926157, 0.24964281]), 'mean_test_f1_macro': array([0.28308322, 0.28844327, 0.28712285, 0.28486933, 0.2838345 ,\n       0.19141111, 0.18384017, 0.21017942, 0.22296572, 0.23522844]), 'std_test_f1_macro': array([0.02580655, 0.02357243, 0.02320138, 0.02356129, 0.02428602,\n       0.01489108, 0.01660782, 0.0222302 , 0.02405299, 0.0267471 ]), 'rank_test_f1_macro': array([ 5,  1,  2,  3,  4,  9, 10,  8,  7,  6], dtype=int32)}\n------------------\n"
    }
   ],
   "source": [
    "tokenize_test_pipeline(model='nb')"
   ]
  },
  {
   "cell_type": "markdown",
   "execution_count": null,
   "metadata": {},
   "outputs": [],
   "source": [
    "### Logistic Regression"
   ]
  },
  {
   "cell_type": "code",
   "execution_count": 42,
   "metadata": {},
   "outputs": [
    {
     "name": "stdout",
     "output_type": "stream",
     "text": "Features:  74495\nAverage Scores: \nfit_time : 32.170420\nscore_time : 0.231972\ntest_accuracy : 0.706063\ntest_precision_macro : 0.697994\ntest_recall_macro : 0.491269\ntest_f1_macro : 0.526272\nLogistic Regression\n"
    }
   ],
   "source": [
    "tokenize_test_pipeline(model='lr')"
   ]
  },
  {
   "cell_type": "markdown",
   "execution_count": null,
   "metadata": {},
   "outputs": [],
   "source": [
    "### SVM"
   ]
  },
  {
   "cell_type": "code",
   "execution_count": 32,
   "metadata": {},
   "outputs": [
    {
     "name": "stdout",
     "output_type": "stream",
     "text": "Features:  74495\nAverage Scores: \nfit_time : 115.475916\nscore_time : 0.237551\ntest_accuracy : 0.731291\ntest_precision_macro : 0.651458\ntest_recall_macro : 0.602806\ntest_f1_macro : 0.619864\nLinear SVM\n"
    }
   ],
   "source": [
    "tokenize_test_pipeline(model='svm')"
   ]
  },
  {
   "cell_type": "code",
   "execution_count": null,
   "metadata": {},
   "outputs": [],
   "source": []
  }
 ]
}