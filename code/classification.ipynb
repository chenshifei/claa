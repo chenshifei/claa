{
  "nbformat": 4,
  "nbformat_minor": 0,
  "metadata": {
    "orig_nbformat": 2,
    "file_extension": ".py",
    "mimetype": "text/x-python",
    "name": "python",
    "npconvert_exporter": "python",
    "pygments_lexer": "ipython3",
    "version": 3,
    "colab": {
      "name": "classification.ipynb",
      "provenance": [],
      "collapsed_sections": [
        "J4hqhoKs_G-J",
        "YmZG99Al_G-M"
      ],
      "toc_visible": true
    },
    "kernelspec": {
      "name": "python3",
      "display_name": "Python 3"
    }
  },
  "cells": [
    {
      "cell_type": "code",
      "metadata": {
        "id": "8a2I-jmT_G98",
        "colab_type": "code",
        "outputId": "ba2d1460-46c4-41f8-c4b8-8af2812dc168",
        "colab": {
          "base_uri": "https://localhost:8080/",
          "height": 34
        }
      },
      "source": [
        "import pandas as pd\n",
        "\n",
        "df = pd.read_csv('tweets_translated_chn.csv')\n",
        "df.shape"
      ],
      "execution_count": 0,
      "outputs": [
        {
          "output_type": "execute_result",
          "data": {
            "text/plain": [
              "(61831, 8)"
            ]
          },
          "metadata": {
            "tags": []
          },
          "execution_count": 21
        }
      ]
    },
    {
      "cell_type": "code",
      "metadata": {
        "id": "6ZQfJkWf-qjn",
        "colab_type": "code",
        "outputId": "9a2afa82-05dd-4192-eec1-cbe72b24c045",
        "colab": {
          "base_uri": "https://localhost:8080/",
          "height": 289
        }
      },
      "source": [
        "df.head()"
      ],
      "execution_count": 0,
      "outputs": [
        {
          "output_type": "execute_result",
          "data": {
            "text/html": [
              "<div>\n",
              "<style scoped>\n",
              "    .dataframe tbody tr th:only-of-type {\n",
              "        vertical-align: middle;\n",
              "    }\n",
              "\n",
              "    .dataframe tbody tr th {\n",
              "        vertical-align: top;\n",
              "    }\n",
              "\n",
              "    .dataframe thead th {\n",
              "        text-align: right;\n",
              "    }\n",
              "</style>\n",
              "<table border=\"1\" class=\"dataframe\">\n",
              "  <thead>\n",
              "    <tr style=\"text-align: right;\">\n",
              "      <th></th>\n",
              "      <th>Unnamed: 0</th>\n",
              "      <th>Unnamed: 0.1</th>\n",
              "      <th>id_str</th>\n",
              "      <th>screen_name</th>\n",
              "      <th>raw_text</th>\n",
              "      <th>chn_text</th>\n",
              "      <th>eng_text</th>\n",
              "      <th>translated_chn</th>\n",
              "    </tr>\n",
              "  </thead>\n",
              "  <tbody>\n",
              "    <tr>\n",
              "      <th>0</th>\n",
              "      <td>0</td>\n",
              "      <td>0</td>\n",
              "      <td>1193152895337689088</td>\n",
              "      <td>YXSzzzz</td>\n",
              "      <td>@gww067 Haha there is no way Ryza is not cute 😂</td>\n",
              "      <td>NaN</td>\n",
              "      <td>Haha there is no way Ryza is not cute</td>\n",
              "      <td>哈哈，不可能瑞紮不可愛</td>\n",
              "    </tr>\n",
              "    <tr>\n",
              "      <th>1</th>\n",
              "      <td>1</td>\n",
              "      <td>1</td>\n",
              "      <td>1193152895337689088</td>\n",
              "      <td>YXSzzzz</td>\n",
              "      <td>乳不平何以平天下!\\nLess busty testing. https://t.co/Iy...</td>\n",
              "      <td>乳不平何以平天下!</td>\n",
              "      <td>Less busty testing.</td>\n",
              "      <td>不太繁忙的測試。</td>\n",
              "    </tr>\n",
              "    <tr>\n",
              "      <th>2</th>\n",
              "      <td>2</td>\n",
              "      <td>2</td>\n",
              "      <td>1193152895337689088</td>\n",
              "      <td>YXSzzzz</td>\n",
              "      <td>@HrJasn 乳不巨何以聚人心 (誤</td>\n",
              "      <td>乳不巨何以聚人心誤</td>\n",
              "      <td>NaN</td>\n",
              "      <td>NaN</td>\n",
              "    </tr>\n",
              "    <tr>\n",
              "      <th>3</th>\n",
              "      <td>3</td>\n",
              "      <td>3</td>\n",
              "      <td>1193152895337689088</td>\n",
              "      <td>YXSzzzz</td>\n",
              "      <td>因為蠻多人問。。。我就統一發個 😂\\nBecuz too many people ask ....</td>\n",
              "      <td>因為蠻多人問。。。我就統一發個這個是我自己無聊畫的，不是…</td>\n",
              "      <td>Becuz too many people ask ... I will post thi...</td>\n",
              "      <td>因為太多人問...我會張貼這個Mod這是我的圖紙，而fe</td>\n",
              "    </tr>\n",
              "    <tr>\n",
              "      <th>4</th>\n",
              "      <td>4</td>\n",
              "      <td>4</td>\n",
              "      <td>1193152895337689088</td>\n",
              "      <td>YXSzzzz</td>\n",
              "      <td>PS: it was not my update. but good to see more...</td>\n",
              "      <td>NaN</td>\n",
              "      <td>PS: it was not my update. but good to see more...</td>\n",
              "      <td>PS：這不是我的更新。但很高興看到更多的人做模組</td>\n",
              "    </tr>\n",
              "  </tbody>\n",
              "</table>\n",
              "</div>"
            ],
            "text/plain": [
              "   Unnamed: 0  ...                translated_chn\n",
              "0           0  ...                   哈哈，不可能瑞紮不可愛\n",
              "1           1  ...                      不太繁忙的測試。\n",
              "2           2  ...                           NaN\n",
              "3           3  ...  因為太多人問...我會張貼這個Mod這是我的圖紙，而fe\n",
              "4           4  ...      PS：這不是我的更新。但很高興看到更多的人做模組\n",
              "\n",
              "[5 rows x 8 columns]"
            ]
          },
          "metadata": {
            "tags": []
          },
          "execution_count": 22
        }
      ]
    },
    {
      "cell_type": "code",
      "metadata": {
        "id": "tBAs2o5gFHWb",
        "colab_type": "code",
        "outputId": "c0a02a2c-d81c-471d-95ea-e1ac42a3c66a",
        "colab": {
          "base_uri": "https://localhost:8080/",
          "height": 238
        }
      },
      "source": [
        "df.screen_name.unique()"
      ],
      "execution_count": 0,
      "outputs": [
        {
          "output_type": "execute_result",
          "data": {
            "text/plain": [
              "array(['YXSzzzz', 'GreenBright2', 'ZhuLiuHai1', 'SangPu15', 'BlessHK3',\n",
              "       '0318May', '2nmnmcvkhKwByww', 'RainbowRainRai1', 'kacavawu',\n",
              "       'Lucien86734903', 'yueming02341069', 'susanzh77455188',\n",
              "       'Abby23079586', 'CherieHuang3', 'yuenck3', 'hkunderwearmen',\n",
              "       'Iming9999', 'lee_tungtung', 'ZazousLes', 'Heerfei',\n",
              "       'AnnaRao32559926', 'amyfox2009', 'pyequality', 'dgchuanghe',\n",
              "       'EmmaHaoTheBest', 'kevin77757997', 'YingShi55', 'Wangcat11',\n",
              "       'KP_Taipei', 'Nan_Is_Me', 'kelvinchan4335', 'EdrWx',\n",
              "       'Shevonne1207', 'steffenroski', 'cla12a2013', 'bluerightking',\n",
              "       'thenapoleonhung', 'easoncxz', 'siumou', 'yipcw',\n",
              "       'SVWomanEngineer', 'kk23wong', 'calvynation', 'AndyCoach',\n",
              "       'denistsao', 'Leifson', 'hongliji', 'sunbear', 'TrueOfLifeTP',\n",
              "       'poiesis'], dtype=object)"
            ]
          },
          "metadata": {
            "tags": []
          },
          "execution_count": 9
        }
      ]
    },
    {
      "cell_type": "code",
      "metadata": {
        "id": "lZVk2ARF6w9z",
        "colab_type": "code",
        "outputId": "02088e5b-9687-4e5d-e411-c1a81e9107ef",
        "colab": {
          "base_uri": "https://localhost:8080/",
          "height": 34
        }
      },
      "source": [
        "len(df.screen_name.unique())"
      ],
      "execution_count": 0,
      "outputs": [
        {
          "output_type": "execute_result",
          "data": {
            "text/plain": [
              "50"
            ]
          },
          "metadata": {
            "tags": []
          },
          "execution_count": 10
        }
      ]
    },
    {
      "cell_type": "markdown",
      "metadata": {
        "id": "C76FvFRO_G-B",
        "colab_type": "text"
      },
      "source": [
        "## Vectorize the tweets"
      ]
    },
    {
      "cell_type": "code",
      "metadata": {
        "id": "2-LyVuj6_qAI",
        "colab_type": "code",
        "outputId": "76fcac50-1ff1-4463-f3e0-60f0506b629f",
        "colab": {
          "base_uri": "https://localhost:8080/",
          "height": 425
        }
      },
      "source": [
        "!pip3 install polyglot PyICU pycld2 morfessor"
      ],
      "execution_count": 0,
      "outputs": [
        {
          "output_type": "stream",
          "text": [
            "Collecting polyglot\n",
            "\u001b[?25l  Downloading https://files.pythonhosted.org/packages/e7/98/e24e2489114c5112b083714277204d92d372f5bbe00d5507acf40370edb9/polyglot-16.7.4.tar.gz (126kB)\n",
            "\u001b[K     |████████████████████████████████| 133kB 3.5MB/s \n",
            "\u001b[?25hCollecting PyICU\n",
            "\u001b[?25l  Downloading https://files.pythonhosted.org/packages/95/0c/0fb09019efb65a29789ec5538f8e521b8f548da6935a3a474e19fbf2ea4d/PyICU-2.4.2.tar.gz (219kB)\n",
            "\u001b[K     |████████████████████████████████| 225kB 47.2MB/s \n",
            "\u001b[?25hCollecting pycld2\n",
            "\u001b[?25l  Downloading https://files.pythonhosted.org/packages/21/d2/8b0def84a53c88d0eb27c67b05269fbd16ad68df8c78849e7b5d65e6aec3/pycld2-0.41.tar.gz (41.4MB)\n",
            "\u001b[K     |████████████████████████████████| 41.4MB 56kB/s \n",
            "\u001b[?25hCollecting morfessor\n",
            "  Downloading https://files.pythonhosted.org/packages/39/e6/7afea30be2ee4d29ce9de0fa53acbb033163615f849515c0b1956ad074ee/Morfessor-2.0.6-py3-none-any.whl\n",
            "Building wheels for collected packages: polyglot, PyICU, pycld2\n",
            "  Building wheel for polyglot (setup.py) ... \u001b[?25l\u001b[?25hdone\n",
            "  Created wheel for polyglot: filename=polyglot-16.7.4-py2.py3-none-any.whl size=52560 sha256=3eeb89d8ed2bb32d1782fb3b2fe751926afe6c8defd0dad393dba3fe445fdf5b\n",
            "  Stored in directory: /root/.cache/pip/wheels/5e/91/ef/f1369fdc1203b0a9347d4b24f149b83a305f39ab047986d9da\n",
            "  Building wheel for PyICU (setup.py) ... \u001b[?25l\u001b[?25hdone\n",
            "  Created wheel for PyICU: filename=PyICU-2.4.2-cp36-cp36m-linux_x86_64.whl size=1245270 sha256=efcf5c48c0751db26f4f28887e3f0f6045d027f222aaae70dbf24de3212a9a2b\n",
            "  Stored in directory: /root/.cache/pip/wheels/d6/78/89/08a15173ae1905de95ce9a5f55b17259ca5b462ed11a4c068c\n",
            "  Building wheel for pycld2 (setup.py) ... \u001b[?25l\u001b[?25hdone\n",
            "  Created wheel for pycld2: filename=pycld2-0.41-cp36-cp36m-linux_x86_64.whl size=9833412 sha256=faf669a3ffc2d39120c09f9017dbbffe0c9b3566d92c26e22aad06388276410e\n",
            "  Stored in directory: /root/.cache/pip/wheels/c6/8f/e9/08a1a8932a490175bd140206cd86a3dbcfc70498100de11079\n",
            "Successfully built polyglot PyICU pycld2\n",
            "Installing collected packages: polyglot, PyICU, pycld2, morfessor\n",
            "Successfully installed PyICU-2.4.2 morfessor-2.0.6 polyglot-16.7.4 pycld2-0.41\n"
          ],
          "name": "stdout"
        }
      ]
    },
    {
      "cell_type": "markdown",
      "metadata": {
        "id": "Oox_xcHP0a98",
        "colab_type": "text"
      },
      "source": [
        "### Prepare Monolingual Texts"
      ]
    },
    {
      "cell_type": "code",
      "metadata": {
        "colab_type": "code",
        "outputId": "14a3a355-15c2-4292-cc93-8e3599d1456f",
        "id": "Ep9k9-kq-Zth",
        "colab": {
          "base_uri": "https://localhost:8080/",
          "height": 289
        }
      },
      "source": [
        "df['monolingual_text'] = df[['chn_text', 'eng_text']].values.tolist()\n",
        "df = df.explode('monolingual_text')\n",
        "df = df.reset_index(drop=True)\n",
        "df = df.dropna(subset=['monolingual_text'])\n",
        "df = df.reset_index(drop=True)\n",
        "df.head()"
      ],
      "execution_count": 0,
      "outputs": [
        {
          "output_type": "execute_result",
          "data": {
            "text/html": [
              "<div>\n",
              "<style scoped>\n",
              "    .dataframe tbody tr th:only-of-type {\n",
              "        vertical-align: middle;\n",
              "    }\n",
              "\n",
              "    .dataframe tbody tr th {\n",
              "        vertical-align: top;\n",
              "    }\n",
              "\n",
              "    .dataframe thead th {\n",
              "        text-align: right;\n",
              "    }\n",
              "</style>\n",
              "<table border=\"1\" class=\"dataframe\">\n",
              "  <thead>\n",
              "    <tr style=\"text-align: right;\">\n",
              "      <th></th>\n",
              "      <th>Unnamed: 0</th>\n",
              "      <th>id_str</th>\n",
              "      <th>screen_name</th>\n",
              "      <th>raw_text</th>\n",
              "      <th>chn_text</th>\n",
              "      <th>eng_text</th>\n",
              "      <th>monolingual_text</th>\n",
              "    </tr>\n",
              "  </thead>\n",
              "  <tbody>\n",
              "    <tr>\n",
              "      <th>0</th>\n",
              "      <td>0</td>\n",
              "      <td>1193152895337689088</td>\n",
              "      <td>YXSzzzz</td>\n",
              "      <td>@gww067 Haha there is no way Ryza is not cute 😂</td>\n",
              "      <td>NaN</td>\n",
              "      <td>Haha there is no way Ryza is not cute</td>\n",
              "      <td>Haha there is no way Ryza is not cute</td>\n",
              "    </tr>\n",
              "    <tr>\n",
              "      <th>1</th>\n",
              "      <td>1</td>\n",
              "      <td>1193152895337689088</td>\n",
              "      <td>YXSzzzz</td>\n",
              "      <td>乳不平何以平天下!\\nLess busty testing. https://t.co/Iy...</td>\n",
              "      <td>乳不平何以平天下!</td>\n",
              "      <td>Less busty testing.</td>\n",
              "      <td>乳不平何以平天下!</td>\n",
              "    </tr>\n",
              "    <tr>\n",
              "      <th>2</th>\n",
              "      <td>1</td>\n",
              "      <td>1193152895337689088</td>\n",
              "      <td>YXSzzzz</td>\n",
              "      <td>乳不平何以平天下!\\nLess busty testing. https://t.co/Iy...</td>\n",
              "      <td>乳不平何以平天下!</td>\n",
              "      <td>Less busty testing.</td>\n",
              "      <td>Less busty testing.</td>\n",
              "    </tr>\n",
              "    <tr>\n",
              "      <th>3</th>\n",
              "      <td>2</td>\n",
              "      <td>1193152895337689088</td>\n",
              "      <td>YXSzzzz</td>\n",
              "      <td>@HrJasn 乳不巨何以聚人心 (誤</td>\n",
              "      <td>乳不巨何以聚人心誤</td>\n",
              "      <td>NaN</td>\n",
              "      <td>乳不巨何以聚人心誤</td>\n",
              "    </tr>\n",
              "    <tr>\n",
              "      <th>4</th>\n",
              "      <td>3</td>\n",
              "      <td>1193152895337689088</td>\n",
              "      <td>YXSzzzz</td>\n",
              "      <td>因為蠻多人問。。。我就統一發個 😂\\nBecuz too many people ask ....</td>\n",
              "      <td>因為蠻多人問。。。我就統一發個這個是我自己無聊畫的，不是…</td>\n",
              "      <td>Becuz too many people ask ... I will post thi...</td>\n",
              "      <td>因為蠻多人問。。。我就統一發個這個是我自己無聊畫的，不是…</td>\n",
              "    </tr>\n",
              "  </tbody>\n",
              "</table>\n",
              "</div>"
            ],
            "text/plain": [
              "   Unnamed: 0  ...                       monolingual_text\n",
              "0           0  ...  Haha there is no way Ryza is not cute\n",
              "1           1  ...                              乳不平何以平天下!\n",
              "2           1  ...                    Less busty testing.\n",
              "3           2  ...                              乳不巨何以聚人心誤\n",
              "4           3  ...          因為蠻多人問。。。我就統一發個這個是我自己無聊畫的，不是…\n",
              "\n",
              "[5 rows x 7 columns]"
            ]
          },
          "metadata": {
            "tags": []
          },
          "execution_count": 29
        }
      ]
    },
    {
      "cell_type": "code",
      "metadata": {
        "id": "Tq_-fswA_s7m",
        "colab_type": "code",
        "outputId": "9bf04deb-3df5-44f4-f704-02960c7ef89a",
        "colab": {
          "base_uri": "https://localhost:8080/",
          "height": 34
        }
      },
      "source": [
        "df.shape"
      ],
      "execution_count": 0,
      "outputs": [
        {
          "output_type": "execute_result",
          "data": {
            "text/plain": [
              "(73860, 7)"
            ]
          },
          "metadata": {
            "tags": []
          },
          "execution_count": 30
        }
      ]
    },
    {
      "cell_type": "markdown",
      "metadata": {
        "id": "69sI2gt9-tkY",
        "colab_type": "text"
      },
      "source": [
        "### Prepare Translated Monolingual Texts"
      ]
    },
    {
      "cell_type": "code",
      "metadata": {
        "id": "uQMs53Ir-15f",
        "colab_type": "code",
        "outputId": "6faaa4f4-45b6-48e0-b7f7-3182cc375add",
        "colab": {
          "base_uri": "https://localhost:8080/",
          "height": 289
        }
      },
      "source": [
        "df['chn_text'].fillna(df['translated_chn'], inplace=True)\n",
        "df.chn_text = df.chn_text.astype(str)\n",
        "df.head()"
      ],
      "execution_count": 0,
      "outputs": [
        {
          "output_type": "execute_result",
          "data": {
            "text/html": [
              "<div>\n",
              "<style scoped>\n",
              "    .dataframe tbody tr th:only-of-type {\n",
              "        vertical-align: middle;\n",
              "    }\n",
              "\n",
              "    .dataframe tbody tr th {\n",
              "        vertical-align: top;\n",
              "    }\n",
              "\n",
              "    .dataframe thead th {\n",
              "        text-align: right;\n",
              "    }\n",
              "</style>\n",
              "<table border=\"1\" class=\"dataframe\">\n",
              "  <thead>\n",
              "    <tr style=\"text-align: right;\">\n",
              "      <th></th>\n",
              "      <th>Unnamed: 0</th>\n",
              "      <th>Unnamed: 0.1</th>\n",
              "      <th>id_str</th>\n",
              "      <th>screen_name</th>\n",
              "      <th>raw_text</th>\n",
              "      <th>chn_text</th>\n",
              "      <th>eng_text</th>\n",
              "      <th>translated_chn</th>\n",
              "    </tr>\n",
              "  </thead>\n",
              "  <tbody>\n",
              "    <tr>\n",
              "      <th>0</th>\n",
              "      <td>0</td>\n",
              "      <td>0</td>\n",
              "      <td>1193152895337689088</td>\n",
              "      <td>YXSzzzz</td>\n",
              "      <td>@gww067 Haha there is no way Ryza is not cute 😂</td>\n",
              "      <td>哈哈，不可能瑞紮不可愛</td>\n",
              "      <td>Haha there is no way Ryza is not cute</td>\n",
              "      <td>哈哈，不可能瑞紮不可愛</td>\n",
              "    </tr>\n",
              "    <tr>\n",
              "      <th>1</th>\n",
              "      <td>1</td>\n",
              "      <td>1</td>\n",
              "      <td>1193152895337689088</td>\n",
              "      <td>YXSzzzz</td>\n",
              "      <td>乳不平何以平天下!\\nLess busty testing. https://t.co/Iy...</td>\n",
              "      <td>乳不平何以平天下!</td>\n",
              "      <td>Less busty testing.</td>\n",
              "      <td>不太繁忙的測試。</td>\n",
              "    </tr>\n",
              "    <tr>\n",
              "      <th>2</th>\n",
              "      <td>2</td>\n",
              "      <td>2</td>\n",
              "      <td>1193152895337689088</td>\n",
              "      <td>YXSzzzz</td>\n",
              "      <td>@HrJasn 乳不巨何以聚人心 (誤</td>\n",
              "      <td>乳不巨何以聚人心誤</td>\n",
              "      <td>NaN</td>\n",
              "      <td>NaN</td>\n",
              "    </tr>\n",
              "    <tr>\n",
              "      <th>3</th>\n",
              "      <td>3</td>\n",
              "      <td>3</td>\n",
              "      <td>1193152895337689088</td>\n",
              "      <td>YXSzzzz</td>\n",
              "      <td>因為蠻多人問。。。我就統一發個 😂\\nBecuz too many people ask ....</td>\n",
              "      <td>因為蠻多人問。。。我就統一發個這個是我自己無聊畫的，不是…</td>\n",
              "      <td>Becuz too many people ask ... I will post thi...</td>\n",
              "      <td>因為太多人問...我會張貼這個Mod這是我的圖紙，而fe</td>\n",
              "    </tr>\n",
              "    <tr>\n",
              "      <th>4</th>\n",
              "      <td>4</td>\n",
              "      <td>4</td>\n",
              "      <td>1193152895337689088</td>\n",
              "      <td>YXSzzzz</td>\n",
              "      <td>PS: it was not my update. but good to see more...</td>\n",
              "      <td>PS：這不是我的更新。但很高興看到更多的人做模組</td>\n",
              "      <td>PS: it was not my update. but good to see more...</td>\n",
              "      <td>PS：這不是我的更新。但很高興看到更多的人做模組</td>\n",
              "    </tr>\n",
              "  </tbody>\n",
              "</table>\n",
              "</div>"
            ],
            "text/plain": [
              "   Unnamed: 0  ...                translated_chn\n",
              "0           0  ...                   哈哈，不可能瑞紮不可愛\n",
              "1           1  ...                      不太繁忙的測試。\n",
              "2           2  ...                           NaN\n",
              "3           3  ...  因為太多人問...我會張貼這個Mod這是我的圖紙，而fe\n",
              "4           4  ...      PS：這不是我的更新。但很高興看到更多的人做模組\n",
              "\n",
              "[5 rows x 8 columns]"
            ]
          },
          "metadata": {
            "tags": []
          },
          "execution_count": 27
        }
      ]
    },
    {
      "cell_type": "markdown",
      "metadata": {
        "id": "7H0h6cFZ1ho2",
        "colab_type": "text"
      },
      "source": [
        "### Prepare X, y, CV"
      ]
    },
    {
      "cell_type": "code",
      "metadata": {
        "id": "PNaR8Dnn_G-C",
        "colab_type": "code",
        "colab": {}
      },
      "source": [
        "from polyglot.text import Text\n",
        "from sklearn.feature_extraction.text import CountVectorizer, TfidfTransformer\n",
        "from sklearn.model_selection import KFold\n",
        "\n",
        "X = df.chn_text\n",
        "y = df.screen_name\n",
        "\n",
        "def ploy_tokenizer(raw_text):\n",
        "    return Text(raw_text).words\n",
        "\n",
        "count_vectorizer = CountVectorizer(tokenizer=ploy_tokenizer)\n",
        "tf_transformer = TfidfTransformer()\n",
        "\n",
        "kf = KFold(n_splits=10, shuffle=True, random_state=1)"
      ],
      "execution_count": 0,
      "outputs": []
    },
    {
      "cell_type": "markdown",
      "metadata": {
        "id": "YubBlf1d_G-F",
        "colab_type": "text"
      },
      "source": [
        "## Classification"
      ]
    },
    {
      "cell_type": "code",
      "metadata": {
        "id": "cFgEVUd5_G-G",
        "colab_type": "code",
        "colab": {}
      },
      "source": [
        "import logging\n",
        "\n",
        "from sklearn.model_selection import GridSearchCV\n",
        "from sklearn.naive_bayes import MultinomialNB\n",
        "from sklearn.linear_model import LogisticRegression\n",
        "from sklearn.svm import LinearSVC\n",
        "from sklearn.pipeline import Pipeline\n",
        "from sklearn import metrics\n",
        "\n",
        "logging.getLogger().setLevel(logging.ERROR)\n",
        "\n",
        "nb = MultinomialNB()\n",
        "lr = LogisticRegression(solver='liblinear', multi_class='auto', class_weight='balanced', verbose=1)\n",
        "svm = LinearSVC(class_weight='balanced', verbose=1)\n",
        "\n",
        "scoring = ['accuracy', 'precision_macro', 'recall_macro', 'f1_macro']\n",
        "\n",
        "def tokenize_test_pipeline(model, dataset_X=X, dataset_y=y):\n",
        "    pipe = Pipeline([\n",
        "        ('count', count_vectorizer),\n",
        "        ('tfidf', tf_transformer),\n",
        "        ('clf', globals()[model]),\n",
        "    ])\n",
        "\n",
        "    params = {\n",
        "        'count__ngram_range': [(1, 1), (1, 2), (1, 3)],\n",
        "        'count__analyzer': ['word', 'char'],\n",
        "    }\n",
        "\n",
        "    algorithm = ''\n",
        "    if model.startswith('lr'):\n",
        "        algorithm = 'Logistic Regression'\n",
        "    elif model.startswith('nb'):\n",
        "        algorithm = 'Multinomial Naive Bayes'\n",
        "    elif model.startswith('svm'):\n",
        "        algorithm = 'Linear SVM'\n",
        "\n",
        "    gd_clf = GridSearchCV(pipe, params, cv=10, scoring=scoring, n_jobs=-1, refit='accuracy', verbose=1)\n",
        "    gd_clf.fit(dataset_X, dataset_y)\n",
        "\n",
        "    print(algorithm)\n",
        "    print('------------------')\n",
        "    print('Scores: ')\n",
        "    print(gd_clf.cv_results_)\n",
        "    print('Best params:')\n",
        "    print(gd_clf.best_params_)\n",
        "    print('Best score:')\n",
        "    print(gd_clf.best_score_)"
      ],
      "execution_count": 0,
      "outputs": []
    },
    {
      "cell_type": "markdown",
      "metadata": {
        "id": "J4hqhoKs_G-J",
        "colab_type": "text"
      },
      "source": [
        "### Logistic Regression"
      ]
    },
    {
      "cell_type": "code",
      "metadata": {
        "id": "-_jTqvuw_G-K",
        "colab_type": "code",
        "outputId": "2a24ff80-100f-45c0-813b-f849c90b51ef",
        "colab": {
          "base_uri": "https://localhost:8080/",
          "height": 1000
        }
      },
      "source": [
        "tokenize_test_pipeline(model='lr')"
      ],
      "execution_count": 0,
      "outputs": [
        {
          "output_type": "stream",
          "text": [
            "Fitting 10 folds for each of 6 candidates, totalling 60 fits\n"
          ],
          "name": "stdout"
        },
        {
          "output_type": "stream",
          "text": [
            "[Parallel(n_jobs=-1)]: Using backend LokyBackend with 2 concurrent workers.\n",
            "/usr/local/lib/python3.6/dist-packages/joblib/externals/loky/process_executor.py:706: UserWarning: A worker stopped while some jobs were given to the executor. This can be caused by a too short worker timeout or by a memory leak.\n",
            "  \"timeout or by a memory leak.\", UserWarning\n",
            "[Parallel(n_jobs=-1)]: Done  46 tasks      | elapsed: 56.2min\n",
            "[Parallel(n_jobs=-1)]: Done  60 out of  60 | elapsed: 89.4min finished\n"
          ],
          "name": "stderr"
        },
        {
          "output_type": "stream",
          "text": [
            "[LibLinear]Logistic Regression\n",
            "------------------\n",
            "Scores: \n",
            "{'mean_fit_time': array([ 60.14813883, 149.37297668, 272.25913916,  46.75755084,\n",
            "       171.21401787, 323.37935736]), 'std_fit_time': array([ 1.36537253,  2.84256665, 11.97859924,  2.11104568,  2.63658098,\n",
            "        6.7273698 ]), 'mean_score_time': array([ 6.82493012, 12.24646518, 17.77140684,  1.24236243,  3.23189859,\n",
            "        5.13974364]), 'std_score_time': array([0.19266   , 0.32581927, 0.83195158, 0.02796554, 0.12642395,\n",
            "       0.66589351]), 'param_count__analyzer': masked_array(data=['word', 'word', 'word', 'char', 'char', 'char'],\n",
            "             mask=[False, False, False, False, False, False],\n",
            "       fill_value='?',\n",
            "            dtype=object), 'param_count__ngram_range': masked_array(data=[(1, 1), (1, 2), (1, 3), (1, 1), (1, 2), (1, 3)],\n",
            "             mask=[False, False, False, False, False, False],\n",
            "       fill_value='?',\n",
            "            dtype=object), 'params': [{'count__analyzer': 'word', 'count__ngram_range': (1, 1)}, {'count__analyzer': 'word', 'count__ngram_range': (1, 2)}, {'count__analyzer': 'word', 'count__ngram_range': (1, 3)}, {'count__analyzer': 'char', 'count__ngram_range': (1, 1)}, {'count__analyzer': 'char', 'count__ngram_range': (1, 2)}, {'count__analyzer': 'char', 'count__ngram_range': (1, 3)}], 'split0_test_accuracy': array([0.5434493 , 0.51635825, 0.48275352, 0.3684678 , 0.46632124,\n",
            "       0.50451517]), 'split1_test_accuracy': array([0.5957037 , 0.57955556, 0.54385185, 0.41111111, 0.52503704,\n",
            "       0.57022222]), 'split2_test_accuracy': array([0.61186064, 0.59614529, 0.56693847, 0.40593032, 0.53476649,\n",
            "       0.57716827]), 'split3_test_accuracy': array([0.63748331, 0.62605728, 0.59341149, 0.44205372, 0.57070782,\n",
            "       0.61121828]), 'split4_test_accuracy': array([0.64894565, 0.63439263, 0.60840511, 0.45054945, 0.58419958,\n",
            "       0.62815563]), 'split5_test_accuracy': array([0.64447087, 0.64030916, 0.61385256, 0.43787158, 0.5780321 ,\n",
            "       0.62336504]), 'split6_test_accuracy': array([0.68525956, 0.67380634, 0.6453964 , 0.46229362, 0.62100253,\n",
            "       0.6681541 ]), 'split7_test_accuracy': array([0.65644993, 0.64767148, 0.6214849 , 0.43683976, 0.59633983,\n",
            "       0.64335664]), 'split8_test_accuracy': array([0.62153709, 0.61408996, 0.5914507 , 0.39246351, 0.55406613,\n",
            "       0.61126005]), 'split9_test_accuracy': array([0.55948122, 0.54934407, 0.519678  , 0.3470483 , 0.49403697,\n",
            "       0.54159213]), 'mean_test_accuracy': array([0.62043763, 0.60773653, 0.57867998, 0.41546712, 0.55241618,\n",
            "       0.5978579 ]), 'std_test_accuracy': array([0.04184624, 0.04561449, 0.0477829 , 0.03550437, 0.04530579,\n",
            "       0.04692633]), 'rank_test_accuracy': array([1, 2, 4, 6, 5, 3], dtype=int32), 'split0_test_precision_macro': array([0.43750852, 0.43143397, 0.41319206, 0.30800119, 0.37813617,\n",
            "       0.40805919]), 'split1_test_precision_macro': array([0.47455505, 0.48330983, 0.46371175, 0.33797277, 0.42168742,\n",
            "       0.46215607]), 'split2_test_precision_macro': array([0.49181207, 0.49835004, 0.48546959, 0.34574599, 0.44137689,\n",
            "       0.47557243]), 'split3_test_precision_macro': array([0.51923585, 0.52379164, 0.49677252, 0.37057293, 0.46071036,\n",
            "       0.4949975 ]), 'split4_test_precision_macro': array([0.52818254, 0.54473777, 0.52420265, 0.37508823, 0.4817361 ,\n",
            "       0.5183392 ]), 'split5_test_precision_macro': array([0.52660536, 0.54575716, 0.54797045, 0.35501848, 0.46168632,\n",
            "       0.51102628]), 'split6_test_precision_macro': array([0.56739851, 0.57988495, 0.55868157, 0.37917446, 0.50407813,\n",
            "       0.55354834]), 'split7_test_precision_macro': array([0.54085726, 0.55342393, 0.53993722, 0.36485022, 0.48314623,\n",
            "       0.52561499]), 'split8_test_precision_macro': array([0.51115112, 0.52121613, 0.51565431, 0.33780706, 0.45939553,\n",
            "       0.51815262]), 'split9_test_precision_macro': array([0.45642057, 0.46355286, 0.44254061, 0.29590733, 0.40942785,\n",
            "       0.45051512]), 'mean_test_precision_macro': array([0.50534131, 0.51450726, 0.49877051, 0.34701415, 0.45010499,\n",
            "       0.49175237]), 'std_test_precision_macro': array([0.03800268, 0.04307201, 0.04532189, 0.02656457, 0.03614589,\n",
            "       0.04075128]), 'rank_test_precision_macro': array([2, 1, 3, 6, 5, 4], dtype=int32), 'split0_test_recall_macro': array([0.46711146, 0.43551501, 0.39999098, 0.33974418, 0.41712701,\n",
            "       0.43094662]), 'split1_test_recall_macro': array([0.51582492, 0.48526133, 0.4482939 , 0.36686088, 0.45316661,\n",
            "       0.48544396]), 'split2_test_recall_macro': array([0.53772598, 0.51151287, 0.48559398, 0.36356921, 0.48300638,\n",
            "       0.50626329]), 'split3_test_recall_macro': array([0.55600679, 0.53229838, 0.49822828, 0.39733698, 0.49788576,\n",
            "       0.5307429 ]), 'split4_test_recall_macro': array([0.56371274, 0.54323493, 0.51142494, 0.39711012, 0.5101161 ,\n",
            "       0.54048868]), 'split5_test_recall_macro': array([0.57474635, 0.55915579, 0.52949548, 0.39107683, 0.51850904,\n",
            "       0.54898677]), 'split6_test_recall_macro': array([0.60328082, 0.57469221, 0.54252032, 0.40618477, 0.54582163,\n",
            "       0.57460456]), 'split7_test_recall_macro': array([0.58105835, 0.56191021, 0.53067366, 0.40549567, 0.53043904,\n",
            "       0.56665988]), 'split8_test_recall_macro': array([0.55490049, 0.5326341 , 0.50707533, 0.37982699, 0.5104946 ,\n",
            "       0.55388951]), 'split9_test_recall_macro': array([0.49388563, 0.47388564, 0.44372863, 0.31895676, 0.44393256,\n",
            "       0.47577939]), 'mean_test_recall_macro': array([0.54479135, 0.52096884, 0.48965719, 0.37661144, 0.49101042,\n",
            "       0.52133008]), 'std_test_recall_macro': array([0.03967527, 0.04204563, 0.04336924, 0.02778174, 0.03909707,\n",
            "       0.0435287 ]), 'rank_test_recall_macro': array([1, 3, 5, 6, 4, 2], dtype=int32), 'split0_test_f1_macro': array([0.43591913, 0.41424718, 0.3837169 , 0.29205109, 0.37616258,\n",
            "       0.40061801]), 'split1_test_f1_macro': array([0.48145117, 0.4689095 , 0.43602594, 0.32470012, 0.41974597,\n",
            "       0.45878476]), 'split2_test_f1_macro': array([0.50393697, 0.49266779, 0.46717441, 0.32733627, 0.44464331,\n",
            "       0.47934665]), 'split3_test_f1_macro': array([0.52750218, 0.51686145, 0.48061682, 0.35448744, 0.46382879,\n",
            "       0.50222604]), 'split4_test_f1_macro': array([0.53643427, 0.53270736, 0.50099432, 0.35988933, 0.48086428,\n",
            "       0.51759183]), 'split5_test_f1_macro': array([0.54047223, 0.540525  , 0.51400009, 0.34110389, 0.47205998,\n",
            "       0.52082108]), 'split6_test_f1_macro': array([0.57850866, 0.56915702, 0.53751633, 0.36594473, 0.51198206,\n",
            "       0.55593733]), 'split7_test_f1_macro': array([0.55121133, 0.54655447, 0.51871209, 0.35378197, 0.48945357,\n",
            "       0.53598339]), 'split8_test_f1_macro': array([0.52339399, 0.51817049, 0.4955311 , 0.3224988 , 0.46494804,\n",
            "       0.52540771]), 'split9_test_f1_macro': array([0.46426982, 0.45694032, 0.42882402, 0.27669866, 0.4095825 ,\n",
            "       0.45165878]), 'mean_test_f1_macro': array([0.51427367, 0.50562924, 0.47626265, 0.33184951, 0.45328963,\n",
            "       0.49478496]), 'std_test_f1_macro': array([0.04093652, 0.04494291, 0.0452921 , 0.02793842, 0.03896346,\n",
            "       0.04461807]), 'rank_test_f1_macro': array([1, 2, 4, 6, 5, 3], dtype=int32)}\n",
            "Best params:\n",
            "{'count__analyzer': 'word', 'count__ngram_range': (1, 1)}\n",
            "Best score:\n",
            "0.6204376309104683\n"
          ],
          "name": "stdout"
        }
      ]
    },
    {
      "cell_type": "markdown",
      "metadata": {
        "id": "YmZG99Al_G-M",
        "colab_type": "text"
      },
      "source": [
        "### SVM"
      ]
    },
    {
      "cell_type": "code",
      "metadata": {
        "id": "ABKSw1uH_G-N",
        "colab_type": "code",
        "outputId": "7d2715a6-b3b4-475e-c347-175006001068",
        "colab": {
          "base_uri": "https://localhost:8080/",
          "height": 1000
        }
      },
      "source": [
        "tokenize_test_pipeline(model='svm')"
      ],
      "execution_count": 0,
      "outputs": [
        {
          "output_type": "stream",
          "text": [
            "Fitting 10 folds for each of 6 candidates, totalling 60 fits\n"
          ],
          "name": "stdout"
        },
        {
          "output_type": "stream",
          "text": [
            "[Parallel(n_jobs=-1)]: Using backend LokyBackend with 2 concurrent workers.\n",
            "/usr/local/lib/python3.6/dist-packages/joblib/externals/loky/process_executor.py:706: UserWarning: A worker stopped while some jobs were given to the executor. This can be caused by a too short worker timeout or by a memory leak.\n",
            "  \"timeout or by a memory leak.\", UserWarning\n",
            "[Parallel(n_jobs=-1)]: Done  46 tasks      | elapsed: 28.2min\n",
            "[Parallel(n_jobs=-1)]: Done  60 out of  60 | elapsed: 38.6min finished\n"
          ],
          "name": "stderr"
        },
        {
          "output_type": "stream",
          "text": [
            "[LibLinear]Linear SVM\n",
            "------------------\n",
            "Scores: \n",
            "{'mean_fit_time': array([ 27.82304461,  65.15149863, 114.56113191,  49.33997896,\n",
            "        64.51706111,  91.97935462]), 'std_fit_time': array([0.36800456, 1.26559449, 2.83438217, 1.41091034, 1.17297237,\n",
            "       2.15716559]), 'mean_score_time': array([ 6.67590892, 12.16759541, 17.59144361,  1.25358963,  3.24936681,\n",
            "        5.05684392]), 'std_score_time': array([0.13684759, 0.39998259, 0.63652009, 0.0387192 , 0.09342281,\n",
            "       0.74381784]), 'param_count__analyzer': masked_array(data=['word', 'word', 'word', 'char', 'char', 'char'],\n",
            "             mask=[False, False, False, False, False, False],\n",
            "       fill_value='?',\n",
            "            dtype=object), 'param_count__ngram_range': masked_array(data=[(1, 1), (1, 2), (1, 3), (1, 1), (1, 2), (1, 3)],\n",
            "             mask=[False, False, False, False, False, False],\n",
            "       fill_value='?',\n",
            "            dtype=object), 'params': [{'count__analyzer': 'word', 'count__ngram_range': (1, 1)}, {'count__analyzer': 'word', 'count__ngram_range': (1, 2)}, {'count__analyzer': 'word', 'count__ngram_range': (1, 3)}, {'count__analyzer': 'char', 'count__ngram_range': (1, 1)}, {'count__analyzer': 'char', 'count__ngram_range': (1, 2)}, {'count__analyzer': 'char', 'count__ngram_range': (1, 3)}], 'split0_test_accuracy': array([0.61287935, 0.64470762, 0.62916358, 0.37853442, 0.55943745,\n",
            "       0.62279793]), 'split1_test_accuracy': array([0.66622222, 0.7002963 , 0.68459259, 0.42103704, 0.60459259,\n",
            "       0.68044444]), 'split2_test_accuracy': array([0.6744255 , 0.70748703, 0.69325426, 0.41156412, 0.6102298 ,\n",
            "       0.69088213]), 'split3_test_accuracy': array([0.69283276, 0.72903992, 0.71553643, 0.43671168, 0.63377356,\n",
            "       0.70292328]), 'split4_test_accuracy': array([0.69468369, 0.72527473, 0.71027621, 0.43673894, 0.63765964,\n",
            "       0.70656371]), 'split5_test_accuracy': array([0.69619501, 0.72874554, 0.72205707, 0.43148038, 0.63243163,\n",
            "       0.70734245]), 'split6_test_accuracy': array([0.73270861, 0.76632456, 0.75531757, 0.45931876, 0.67231891,\n",
            "       0.74222817]), 'split7_test_accuracy': array([0.71194763, 0.74587115, 0.73753906, 0.4304419 , 0.65615236,\n",
            "       0.72593364]), 'split8_test_accuracy': array([0.6909443 , 0.72266905, 0.71075365, 0.38725052, 0.61483467,\n",
            "       0.69883825]), 'split9_test_accuracy': array([0.61970781, 0.64967203, 0.63878951, 0.34570662, 0.55366726,\n",
            "       0.62641622]), 'mean_test_accuracy': array([0.67923407, 0.71198954, 0.69970438, 0.41389248, 0.61749632,\n",
            "       0.69041995]), 'std_test_accuracy': array([0.03593677, 0.03677813, 0.03803069, 0.03215419, 0.03613538,\n",
            "       0.03672133]), 'rank_test_accuracy': array([4, 1, 2, 6, 5, 3], dtype=int32), 'split0_test_precision_macro': array([0.48420715, 0.53187257, 0.52525083, 0.32100599, 0.43558672,\n",
            "       0.5052862 ]), 'split1_test_precision_macro': array([0.53272053, 0.60565089, 0.63459371, 0.34635212, 0.47660838,\n",
            "       0.55841748]), 'split2_test_precision_macro': array([0.54801484, 0.6206099 , 0.62868458, 0.36064111, 0.49198475,\n",
            "       0.56761979]), 'split3_test_precision_macro': array([0.56326194, 0.63469178, 0.63233407, 0.36545541, 0.50140968,\n",
            "       0.58019726]), 'split4_test_precision_macro': array([0.56649232, 0.63324703, 0.64283877, 0.36024445, 0.50931038,\n",
            "       0.59598077]), 'split5_test_precision_macro': array([0.57817226, 0.63191226, 0.66199428, 0.34942869, 0.49839105,\n",
            "       0.59396683]), 'split6_test_precision_macro': array([0.60845889, 0.67281952, 0.66069003, 0.37427232, 0.53839144,\n",
            "       0.61997738]), 'split7_test_precision_macro': array([0.59388563, 0.63929571, 0.66117826, 0.36065945, 0.52335138,\n",
            "       0.60126376]), 'split8_test_precision_macro': array([0.57781412, 0.62586137, 0.63799785, 0.33110816, 0.49731639,\n",
            "       0.59252016]), 'split9_test_precision_macro': array([0.49958771, 0.53863812, 0.53564766, 0.29191286, 0.44242152,\n",
            "       0.51668409]), 'mean_test_precision_macro': array([0.55523004, 0.61344423, 0.62210686, 0.34612178, 0.49145979,\n",
            "       0.57316745]), 'std_test_precision_macro': array([0.03775559, 0.04229961, 0.04738109, 0.02363138, 0.03076623,\n",
            "       0.03521994]), 'rank_test_precision_macro': array([4, 2, 1, 6, 5, 3], dtype=int32), 'split0_test_recall_macro': array([0.50019744, 0.50946983, 0.48330058, 0.35117749, 0.48072102,\n",
            "       0.51438847]), 'split1_test_recall_macro': array([0.54843779, 0.56407851, 0.54428142, 0.37252217, 0.51930588,\n",
            "       0.56624716]), 'split2_test_recall_macro': array([0.56849293, 0.58340149, 0.55863333, 0.37395149, 0.53507485,\n",
            "       0.58095215]), 'split3_test_recall_macro': array([0.58231966, 0.6039439 , 0.57557951, 0.38860406, 0.54658438,\n",
            "       0.59458533]), 'split4_test_recall_macro': array([0.57767609, 0.60020727, 0.57905754, 0.3820353 , 0.55266003,\n",
            "       0.59634127]), 'split5_test_recall_macro': array([0.59319876, 0.60846835, 0.59423134, 0.39123911, 0.55262543,\n",
            "       0.60423236]), 'split6_test_recall_macro': array([0.61103525, 0.62349882, 0.59596467, 0.3980897 , 0.58453045,\n",
            "       0.61678425]), 'split7_test_recall_macro': array([0.61228806, 0.6163369 , 0.59871899, 0.40646469, 0.57189549,\n",
            "       0.61963074]), 'split8_test_recall_macro': array([0.59911567, 0.60432993, 0.58196166, 0.36151003, 0.5512197 ,\n",
            "       0.60701094]), 'split9_test_recall_macro': array([0.52001163, 0.52533287, 0.50214273, 0.31169725, 0.48083205,\n",
            "       0.52972868]), 'mean_test_recall_macro': array([0.57124525, 0.58388189, 0.56136034, 0.37373868, 0.53752532,\n",
            "       0.58296423]), 'std_test_recall_macro': array([0.03590777, 0.03698047, 0.03810118, 0.02598981, 0.03300281,\n",
            "       0.03413921]), 'rank_test_recall_macro': array([3, 1, 4, 6, 5, 2], dtype=int32), 'split0_test_f1_macro': array([0.48680928, 0.51128475, 0.49023738, 0.29744427, 0.44456309,\n",
            "       0.50279748]), 'split1_test_f1_macro': array([0.53473865, 0.57270051, 0.56166844, 0.32272281, 0.48387105,\n",
            "       0.55768383]), 'split2_test_f1_macro': array([0.55545672, 0.59226317, 0.57246722, 0.32692715, 0.5009669 ,\n",
            "       0.57111689]), 'split3_test_f1_macro': array([0.56944421, 0.61287888, 0.59058152, 0.34012124, 0.51185374,\n",
            "       0.58357259]), 'split4_test_f1_macro': array([0.56827571, 0.60791242, 0.59618688, 0.33638536, 0.518272  ,\n",
            "       0.5911653 ]), 'split5_test_f1_macro': array([0.58222635, 0.61392114, 0.60821018, 0.32479892, 0.51346366,\n",
            "       0.59536914]), 'split6_test_f1_macro': array([0.60631204, 0.63931208, 0.61546887, 0.34994987, 0.55118338,\n",
            "       0.61523461]), 'split7_test_f1_macro': array([0.59948422, 0.62095502, 0.61074593, 0.3373617 , 0.53557022,\n",
            "       0.60728347]), 'split8_test_f1_macro': array([0.58519834, 0.61085447, 0.59606544, 0.30237537, 0.5095148 ,\n",
            "       0.59609253]), 'split9_test_f1_macro': array([0.50467386, 0.52662431, 0.50904558, 0.26320524, 0.44865483,\n",
            "       0.51711645]), 'mean_test_f1_macro': array([0.55922952, 0.59084649, 0.57504164, 0.32014397, 0.50177246,\n",
            "       0.57371763]), 'std_test_f1_macro': array([0.0375015 , 0.03969106, 0.04108187, 0.02446141, 0.03250691,\n",
            "       0.03566505]), 'rank_test_f1_macro': array([4, 1, 2, 6, 5, 3], dtype=int32)}\n",
            "Best params:\n",
            "{'count__analyzer': 'word', 'count__ngram_range': (1, 2)}\n",
            "Best score:\n",
            "0.7119895420176181\n"
          ],
          "name": "stdout"
        }
      ]
    },
    {
      "cell_type": "markdown",
      "metadata": {
        "id": "fnmjoafY_G-Q",
        "colab_type": "text"
      },
      "source": [
        "### Translated ENG Logistic Regression"
      ]
    },
    {
      "cell_type": "code",
      "metadata": {
        "colab_type": "code",
        "outputId": "3c067cc9-07cf-422b-ca8b-e6f83339e68d",
        "id": "KhQmMJCi18QZ",
        "colab": {
          "base_uri": "https://localhost:8080/",
          "height": 1000
        }
      },
      "source": [
        "tokenize_test_pipeline(model='lr')"
      ],
      "execution_count": 0,
      "outputs": [
        {
          "output_type": "stream",
          "text": [
            "Fitting 10 folds for each of 6 candidates, totalling 60 fits\n"
          ],
          "name": "stdout"
        },
        {
          "output_type": "stream",
          "text": [
            "[Parallel(n_jobs=-1)]: Using backend LokyBackend with 2 concurrent workers.\n",
            "/usr/local/lib/python3.6/dist-packages/joblib/externals/loky/process_executor.py:706: UserWarning: A worker stopped while some jobs were given to the executor. This can be caused by a too short worker timeout or by a memory leak.\n",
            "  \"timeout or by a memory leak.\", UserWarning\n",
            "[Parallel(n_jobs=-1)]: Done  46 tasks      | elapsed: 26.1min\n",
            "[Parallel(n_jobs=-1)]: Done  60 out of  60 | elapsed: 36.7min finished\n"
          ],
          "name": "stderr"
        },
        {
          "output_type": "stream",
          "text": [
            "[LibLinear]Logistic Regression\n",
            "------------------\n",
            "Scores: \n",
            "{'mean_fit_time': array([ 25.6846704 ,  74.34284422, 146.71994419,  11.7750067 ,\n",
            "        50.77382355, 101.68126271]), 'std_fit_time': array([1.08159125, 1.02032594, 1.83717831, 0.56247878, 0.73258752,\n",
            "       0.54668601]), 'mean_score_time': array([ 3.20612438,  6.6951107 , 10.44163733,  0.79150991,  2.35312645,\n",
            "        4.06918824]), 'std_score_time': array([0.1424879 , 0.27940092, 0.38629754, 0.04111449, 0.11567768,\n",
            "       0.70537673]), 'param_count__analyzer': masked_array(data=['word', 'word', 'word', 'char', 'char', 'char'],\n",
            "             mask=[False, False, False, False, False, False],\n",
            "       fill_value='?',\n",
            "            dtype=object), 'param_count__ngram_range': masked_array(data=[(1, 1), (1, 2), (1, 3), (1, 1), (1, 2), (1, 3)],\n",
            "             mask=[False, False, False, False, False, False],\n",
            "       fill_value='?',\n",
            "            dtype=object), 'params': [{'count__analyzer': 'word', 'count__ngram_range': (1, 1)}, {'count__analyzer': 'word', 'count__ngram_range': (1, 2)}, {'count__analyzer': 'word', 'count__ngram_range': (1, 3)}, {'count__analyzer': 'char', 'count__ngram_range': (1, 1)}, {'count__analyzer': 'char', 'count__ngram_range': (1, 2)}, {'count__analyzer': 'char', 'count__ngram_range': (1, 3)}], 'split0_test_accuracy': array([0.49703316, 0.50366492, 0.47609075, 0.20453752, 0.36998255,\n",
            "       0.45514834]), 'split1_test_accuracy': array([0.53291317, 0.54516807, 0.51995798, 0.22338936, 0.40966387,\n",
            "       0.51155462]), 'split2_test_accuracy': array([0.56922538, 0.57413249, 0.55240098, 0.23904662, 0.44444444,\n",
            "       0.53137049]), 'split3_test_accuracy': array([0.54935019, 0.55672638, 0.5367053 , 0.23252547, 0.42922374,\n",
            "       0.51246927]), 'split4_test_accuracy': array([0.51143159, 0.52831516, 0.5107281 , 0.23109391, 0.40590925,\n",
            "       0.48997538]), 'split5_test_accuracy': array([0.56690141, 0.575     , 0.55915493, 0.23380282, 0.4443662 ,\n",
            "       0.52147887]), 'split6_test_accuracy': array([0.55324401, 0.56946403, 0.55359661, 0.24083216, 0.45345557,\n",
            "       0.52856135]), 'split7_test_accuracy': array([0.56435644, 0.56364922, 0.55162659, 0.19625177, 0.43564356,\n",
            "       0.52828854]), 'split8_test_accuracy': array([0.52318584, 0.5320354 , 0.51716814, 0.19327434, 0.40672566,\n",
            "       0.49486726]), 'split9_test_accuracy': array([0.46044697, 0.47747428, 0.45654487, 0.16530685, 0.35047889,\n",
            "       0.42461866]), 'mean_test_accuracy': array([0.53283824, 0.54258764, 0.5234056 , 0.21607067, 0.4150007 ,\n",
            "       0.49985921]), 'std_test_accuracy': array([0.03348196, 0.03076966, 0.03302397, 0.02367704, 0.03192021,\n",
            "       0.03338136]), 'rank_test_accuracy': array([2, 1, 3, 6, 5, 4], dtype=int32), 'split0_test_precision_macro': array([0.37382664, 0.3946853 , 0.38911192, 0.15180993, 0.27007449,\n",
            "       0.33564021]), 'split1_test_precision_macro': array([0.39813216, 0.41050092, 0.41276718, 0.16392951, 0.30648174,\n",
            "       0.38171513]), 'split2_test_precision_macro': array([0.41506426, 0.43192442, 0.4087354 , 0.17631937, 0.33026986,\n",
            "       0.38718976]), 'split3_test_precision_macro': array([0.40247582, 0.43404984, 0.4057169 , 0.17803314, 0.3153408 ,\n",
            "       0.37118945]), 'split4_test_precision_macro': array([0.38280335, 0.40417141, 0.40918964, 0.17460319, 0.29717875,\n",
            "       0.36012476]), 'split5_test_precision_macro': array([0.42222562, 0.45818968, 0.46025411, 0.15729423, 0.31267969,\n",
            "       0.37746413]), 'split6_test_precision_macro': array([0.40755805, 0.4287302 , 0.4283746 , 0.19509769, 0.32784267,\n",
            "       0.3866581 ]), 'split7_test_precision_macro': array([0.42447307, 0.45258304, 0.45422449, 0.14100295, 0.31256192,\n",
            "       0.38774854]), 'split8_test_precision_macro': array([0.36983676, 0.41581466, 0.403012  , 0.1502554 , 0.29647272,\n",
            "       0.3586543 ]), 'split9_test_precision_macro': array([0.3434209 , 0.36936905, 0.35006826, 0.13251524, 0.26563923,\n",
            "       0.32490696]), 'mean_test_precision_macro': array([0.39401215, 0.42000611, 0.41215272, 0.16212218, 0.30346541,\n",
            "       0.3671433 ]), 'std_test_precision_macro': array([0.02468487, 0.02545526, 0.02973618, 0.01812414, 0.02065045,\n",
            "       0.02105768]), 'rank_test_precision_macro': array([3, 1, 2, 6, 5, 4], dtype=int32), 'split0_test_recall_macro': array([0.43089128, 0.42599413, 0.39262169, 0.16826626, 0.32855249,\n",
            "       0.3897847 ]), 'split1_test_recall_macro': array([0.43989537, 0.44441162, 0.41769208, 0.1894996 , 0.36845137,\n",
            "       0.44248611]), 'split2_test_recall_macro': array([0.46906676, 0.46800991, 0.43848705, 0.20438386, 0.37503518,\n",
            "       0.44441902]), 'split3_test_recall_macro': array([0.45195974, 0.44276701, 0.41513423, 0.18982877, 0.35664686,\n",
            "       0.43141571]), 'split4_test_recall_macro': array([0.42951921, 0.4313449 , 0.41528445, 0.19262385, 0.33711153,\n",
            "       0.41918744]), 'split5_test_recall_macro': array([0.467149  , 0.46674889, 0.44559363, 0.17757666, 0.37413544,\n",
            "       0.42786121]), 'split6_test_recall_macro': array([0.47032487, 0.46177713, 0.44035027, 0.22282583, 0.39767658,\n",
            "       0.45255781]), 'split7_test_recall_macro': array([0.48285624, 0.47425832, 0.46100675, 0.16265844, 0.38452559,\n",
            "       0.4630706 ]), 'split8_test_recall_macro': array([0.41989946, 0.41462073, 0.39441452, 0.17547202, 0.34227853,\n",
            "       0.40579782]), 'split9_test_recall_macro': array([0.38621358, 0.38093927, 0.34670286, 0.16319369, 0.30026667,\n",
            "       0.36473157]), 'mean_test_recall_macro': array([0.44481059, 0.44112899, 0.416759  , 0.18465698, 0.35648808,\n",
            "       0.424155  ]), 'std_test_recall_macro': array([0.0277647 , 0.02744663, 0.03125473, 0.0181728 , 0.02788545,\n",
            "       0.02860739]), 'rank_test_recall_macro': array([1, 2, 4, 6, 5, 3], dtype=int32), 'split0_test_f1_macro': array([0.38024356, 0.38816764, 0.35852156, 0.12004412, 0.26123622,\n",
            "       0.33422738]), 'split1_test_f1_macro': array([0.40190428, 0.41183243, 0.39043255, 0.13530847, 0.29492297,\n",
            "       0.3836516 ]), 'split2_test_f1_macro': array([0.42508738, 0.43452943, 0.40430616, 0.14060735, 0.31788148,\n",
            "       0.39338483]), 'split3_test_f1_macro': array([0.41115324, 0.42211427, 0.39436044, 0.14096584, 0.30350241,\n",
            "       0.3792197 ]), 'split4_test_f1_macro': array([0.39188188, 0.40757226, 0.3955381 , 0.14564539, 0.28540083,\n",
            "       0.36641764]), 'split5_test_f1_macro': array([0.43052235, 0.45119503, 0.43475053, 0.13046153, 0.31012368,\n",
            "       0.38185155]), 'split6_test_f1_macro': array([0.42131268, 0.43613546, 0.41958028, 0.1509478 , 0.32370257,\n",
            "       0.39549815]), 'split7_test_f1_macro': array([0.43280956, 0.45049357, 0.44224194, 0.11714657, 0.30983037,\n",
            "       0.39712561]), 'split8_test_f1_macro': array([0.37930181, 0.39657174, 0.37935654, 0.12329677, 0.28625468,\n",
            "       0.36017112]), 'split9_test_f1_macro': array([0.34520928, 0.35824965, 0.32951985, 0.11002468, 0.25199978,\n",
            "       0.31819378]), 'mean_test_f1_macro': array([0.40197341, 0.41570408, 0.39486359, 0.13146846, 0.29449361,\n",
            "       0.37099096]), 'std_test_f1_macro': array([0.02653582, 0.02786126, 0.03217405, 0.01276072, 0.02240057,\n",
            "       0.02528986]), 'rank_test_f1_macro': array([2, 1, 3, 6, 5, 4], dtype=int32)}\n",
            "Best params:\n",
            "{'count__analyzer': 'word', 'count__ngram_range': (1, 2)}\n",
            "Best score:\n",
            "0.5425876390257638\n"
          ],
          "name": "stdout"
        }
      ]
    },
    {
      "cell_type": "markdown",
      "metadata": {
        "id": "44mb67f82CGD",
        "colab_type": "text"
      },
      "source": [
        "### Translated ENG SVM"
      ]
    },
    {
      "cell_type": "code",
      "metadata": {
        "colab_type": "code",
        "outputId": "1eb12752-714a-48d0-f4b0-702e105ceeab",
        "id": "CmI9czpg1_PD",
        "colab": {
          "base_uri": "https://localhost:8080/",
          "height": 1000
        }
      },
      "source": [
        "tokenize_test_pipeline(model='svm')"
      ],
      "execution_count": 0,
      "outputs": [
        {
          "output_type": "stream",
          "text": [
            "Fitting 10 folds for each of 6 candidates, totalling 60 fits\n"
          ],
          "name": "stdout"
        },
        {
          "output_type": "stream",
          "text": [
            "[Parallel(n_jobs=-1)]: Using backend LokyBackend with 2 concurrent workers.\n",
            "/usr/local/lib/python3.6/dist-packages/joblib/externals/loky/process_executor.py:706: UserWarning: A worker stopped while some jobs were given to the executor. This can be caused by a too short worker timeout or by a memory leak.\n",
            "  \"timeout or by a memory leak.\", UserWarning\n",
            "[Parallel(n_jobs=-1)]: Done  46 tasks      | elapsed: 17.4min\n",
            "[Parallel(n_jobs=-1)]: Done  60 out of  60 | elapsed: 22.6min finished\n"
          ],
          "name": "stderr"
        },
        {
          "output_type": "stream",
          "text": [
            "[LibLinear]Linear SVM\n",
            "------------------\n",
            "Scores: \n",
            "{'mean_fit_time': array([14.2969492 , 36.01741168, 71.13299069, 40.42135382, 38.09852674,\n",
            "       41.97550185]), 'std_fit_time': array([0.24180769, 0.48819387, 1.22297034, 3.52377568, 0.42097591,\n",
            "       0.47395641]), 'mean_score_time': array([ 3.27321918,  6.72942572, 10.43951981,  0.76281691,  2.32593699,\n",
            "        4.06143386]), 'std_score_time': array([0.12701345, 0.30489256, 0.46002468, 0.03265929, 0.11217818,\n",
            "       0.53436629]), 'param_count__analyzer': masked_array(data=['word', 'word', 'word', 'char', 'char', 'char'],\n",
            "             mask=[False, False, False, False, False, False],\n",
            "       fill_value='?',\n",
            "            dtype=object), 'param_count__ngram_range': masked_array(data=[(1, 1), (1, 2), (1, 3), (1, 1), (1, 2), (1, 3)],\n",
            "             mask=[False, False, False, False, False, False],\n",
            "       fill_value='?',\n",
            "            dtype=object), 'params': [{'count__analyzer': 'word', 'count__ngram_range': (1, 1)}, {'count__analyzer': 'word', 'count__ngram_range': (1, 2)}, {'count__analyzer': 'word', 'count__ngram_range': (1, 3)}, {'count__analyzer': 'char', 'count__ngram_range': (1, 1)}, {'count__analyzer': 'char', 'count__ngram_range': (1, 2)}, {'count__analyzer': 'char', 'count__ngram_range': (1, 3)}], 'split0_test_accuracy': array([0.51623037, 0.56300175, 0.5574171 , 0.18534031, 0.38359511,\n",
            "       0.51902269]), 'split1_test_accuracy': array([0.54586835, 0.6039916 , 0.60154062, 0.19432773, 0.42577031,\n",
            "       0.55252101]), 'split2_test_accuracy': array([0.58499825, 0.63196635, 0.63056432, 0.21766562, 0.45986681,\n",
            "       0.5828952 ]), 'split3_test_accuracy': array([0.56129259, 0.6055497 , 0.60590095, 0.21355813, 0.43589744,\n",
            "       0.56234633]), 'split4_test_accuracy': array([0.53710869, 0.57791066, 0.57755892, 0.20576855, 0.42806894,\n",
            "       0.54801266]), 'split5_test_accuracy': array([0.57887324, 0.62605634, 0.62077465, 0.21021127, 0.46760563,\n",
            "       0.5834507 ]), 'split6_test_accuracy': array([0.58568406, 0.63363893, 0.62376587, 0.22390691, 0.46755994,\n",
            "       0.57933709]), 'split7_test_accuracy': array([0.58663366, 0.63684583, 0.64002829, 0.19130127, 0.45685997,\n",
            "       0.58380481]), 'split8_test_accuracy': array([0.54973451, 0.6       , 0.60176991, 0.17663717, 0.4300885 ,\n",
            "       0.54973451]), 'split9_test_accuracy': array([0.48740688, 0.53884356, 0.53387726, 0.15253636, 0.37353672,\n",
            "       0.48421426]), 'mean_test_accuracy': array([0.55339293, 0.60178798, 0.59932423, 0.19717021, 0.43288047,\n",
            "       0.55455441]), 'std_test_accuracy': array([0.03146982, 0.03127288, 0.03199118, 0.02056156, 0.03121512,\n",
            "       0.03069026]), 'rank_test_accuracy': array([4, 1, 2, 6, 5, 3], dtype=int32), 'split0_test_precision_macro': array([0.37362626, 0.45167107, 0.43385   , 0.13000147, 0.28170128,\n",
            "       0.38679195]), 'split1_test_precision_macro': array([0.40631032, 0.47443732, 0.4742065 , 0.15024494, 0.31643919,\n",
            "       0.40657201]), 'split2_test_precision_macro': array([0.42579841, 0.4657699 , 0.46580124, 0.14625782, 0.3383877 ,\n",
            "       0.41861867]), 'split3_test_precision_macro': array([0.40586042, 0.46465474, 0.45999869, 0.20706406, 0.31311856,\n",
            "       0.40135853]), 'split4_test_precision_macro': array([0.40233446, 0.43681883, 0.44241864, 0.15462093, 0.3093031 ,\n",
            "       0.4034943 ]), 'split5_test_precision_macro': array([0.42081098, 0.49858915, 0.49309723, 0.15830595, 0.32491449,\n",
            "       0.42267563]), 'split6_test_precision_macro': array([0.42903522, 0.49124006, 0.49892562, 0.19688234, 0.335758  ,\n",
            "       0.42395938]), 'split7_test_precision_macro': array([0.42544865, 0.49361555, 0.51679447, 0.17170012, 0.31331574,\n",
            "       0.42079193]), 'split8_test_precision_macro': array([0.37942275, 0.4518502 , 0.44708288, 0.16870023, 0.29935386,\n",
            "       0.38541061]), 'split9_test_precision_macro': array([0.34415469, 0.41059972, 0.40425198, 0.13908559, 0.27791132,\n",
            "       0.34383963]), 'mean_test_precision_macro': array([0.40131082, 0.46394736, 0.46364553, 0.16225896, 0.31103661,\n",
            "       0.40138905]), 'std_test_precision_macro': array([0.02620461, 0.02606007, 0.0318906 , 0.02323017, 0.0192036 ,\n",
            "       0.02328184]), 'rank_test_precision_macro': array([4, 1, 2, 6, 5, 3], dtype=int32), 'split0_test_recall_macro': array([0.41430711, 0.44277382, 0.41888076, 0.16811249, 0.34413619,\n",
            "       0.43767502]), 'split1_test_recall_macro': array([0.4356111 , 0.46781355, 0.45278762, 0.18437757, 0.38025476,\n",
            "       0.45923299]), 'split2_test_recall_macro': array([0.47089176, 0.48325588, 0.47018909, 0.18986846, 0.40210099,\n",
            "       0.47629194]), 'split3_test_recall_macro': array([0.44348636, 0.45615099, 0.44153005, 0.19234862, 0.37697274,\n",
            "       0.45560268]), 'split4_test_recall_macro': array([0.4324786 , 0.43940748, 0.42886469, 0.17042395, 0.36299374,\n",
            "       0.4516922 ]), 'split5_test_recall_macro': array([0.44691319, 0.4812751 , 0.46526094, 0.16408049, 0.39409567,\n",
            "       0.46688456]), 'split6_test_recall_macro': array([0.46688247, 0.49254827, 0.47303275, 0.21725063, 0.40521648,\n",
            "       0.47787659]), 'split7_test_recall_macro': array([0.47816075, 0.50876733, 0.49527009, 0.16670067, 0.36766692,\n",
            "       0.48299639]), 'split8_test_recall_macro': array([0.40971367, 0.43482531, 0.42692486, 0.16229886, 0.34945019,\n",
            "       0.42832661]), 'split9_test_recall_macro': array([0.37477462, 0.40226781, 0.3837875 , 0.14669511, 0.32742327,\n",
            "       0.38773518]), 'mean_test_recall_macro': array([0.43735651, 0.46093571, 0.44567254, 0.17625017, 0.37106769,\n",
            "       0.45247794]), 'std_test_recall_macro': array([0.02998987, 0.03024615, 0.03067032, 0.01894738, 0.02437959,\n",
            "       0.0271366 ]), 'rank_test_recall_macro': array([4, 1, 3, 6, 5, 2], dtype=int32), 'split0_test_f1_macro': array([0.38161461, 0.42837338, 0.4097467 , 0.09898418, 0.27136661,\n",
            "       0.39683177]), 'split1_test_f1_macro': array([0.41144787, 0.45907605, 0.44948115, 0.10533521, 0.30805539,\n",
            "       0.4204038 ]), 'split2_test_f1_macro': array([0.43866977, 0.46916086, 0.46039021, 0.1130274 , 0.33253718,\n",
            "       0.43499878]), 'split3_test_f1_macro': array([0.41599557, 0.45136329, 0.43548303, 0.12091179, 0.31059707,\n",
            "       0.41786346]), 'split4_test_f1_macro': array([0.41038866, 0.43039856, 0.42863945, 0.11161531, 0.30118743,\n",
            "       0.41688072]), 'split5_test_f1_macro': array([0.42821171, 0.48150399, 0.46954172, 0.10683508, 0.32675158,\n",
            "       0.43510159]), 'split6_test_f1_macro': array([0.44011341, 0.48664501, 0.47499009, 0.12343811, 0.33210956,\n",
            "       0.43880441]), 'split7_test_f1_macro': array([0.43948606, 0.49468335, 0.49409426, 0.10871804, 0.31028561,\n",
            "       0.43769042]), 'split8_test_f1_macro': array([0.38759388, 0.43099978, 0.42556667, 0.10390986, 0.29335776,\n",
            "       0.39698259]), 'split9_test_f1_macro': array([0.35036278, 0.39658118, 0.38258837, 0.08627101, 0.26439287,\n",
            "       0.35256135]), 'mean_test_f1_macro': array([0.41041796, 0.45289593, 0.44305889, 0.10791681, 0.30507989,\n",
            "       0.41485181]), 'std_test_f1_macro': array([0.02793642, 0.02955602, 0.03157733, 0.01009658, 0.02227673,\n",
            "       0.02539336]), 'rank_test_f1_macro': array([4, 1, 2, 6, 5, 3], dtype=int32)}\n",
            "Best params:\n",
            "{'count__analyzer': 'word', 'count__ngram_range': (1, 2)}\n",
            "Best score:\n",
            "0.6017879769111643\n"
          ],
          "name": "stdout"
        }
      ]
    },
    {
      "cell_type": "markdown",
      "metadata": {
        "id": "EHQOSXNLKQEF",
        "colab_type": "text"
      },
      "source": [
        "### Translated CHN Logistic Regression"
      ]
    },
    {
      "cell_type": "code",
      "metadata": {
        "id": "mcfZMVrUKTgJ",
        "colab_type": "code",
        "outputId": "d5eea2bb-611f-496a-fa8d-5d3eb3f04b17",
        "colab": {
          "base_uri": "https://localhost:8080/",
          "height": 1000
        }
      },
      "source": [
        "tokenize_test_pipeline(model='lr')"
      ],
      "execution_count": 0,
      "outputs": [
        {
          "output_type": "stream",
          "text": [
            "Fitting 10 folds for each of 6 candidates, totalling 60 fits\n"
          ],
          "name": "stdout"
        },
        {
          "output_type": "stream",
          "text": [
            "[Parallel(n_jobs=-1)]: Using backend LokyBackend with 2 concurrent workers.\n",
            "/usr/local/lib/python3.6/dist-packages/joblib/externals/loky/process_executor.py:706: UserWarning: A worker stopped while some jobs were given to the executor. This can be caused by a too short worker timeout or by a memory leak.\n",
            "  \"timeout or by a memory leak.\", UserWarning\n",
            "[Parallel(n_jobs=-1)]: Done  46 tasks      | elapsed: 67.1min\n",
            "[Parallel(n_jobs=-1)]: Done  60 out of  60 | elapsed: 106.8min finished\n"
          ],
          "name": "stderr"
        },
        {
          "output_type": "stream",
          "text": [
            "[LibLinear]Logistic Regression\n",
            "------------------\n",
            "Scores: \n",
            "{'mean_fit_time': array([ 69.37375982, 188.26056206, 331.17762198,  57.87744391,\n",
            "       189.37398825, 394.73208094]), 'std_fit_time': array([ 5.14807234,  4.78311496, 11.26311802,  4.72187133,  8.56752815,\n",
            "        8.42270446]), 'mean_score_time': array([ 7.63888748, 13.58429797, 19.13383217,  1.07727373,  2.64178829,\n",
            "        4.32317219]), 'std_score_time': array([0.30444688, 0.61741762, 0.62095566, 0.05249818, 0.21240878,\n",
            "       0.29613198]), 'param_count__analyzer': masked_array(data=['word', 'word', 'word', 'char', 'char', 'char'],\n",
            "             mask=[False, False, False, False, False, False],\n",
            "       fill_value='?',\n",
            "            dtype=object), 'param_count__ngram_range': masked_array(data=[(1, 1), (1, 2), (1, 3), (1, 1), (1, 2), (1, 3)],\n",
            "             mask=[False, False, False, False, False, False],\n",
            "       fill_value='?',\n",
            "            dtype=object), 'params': [{'count__analyzer': 'word', 'count__ngram_range': (1, 1)}, {'count__analyzer': 'word', 'count__ngram_range': (1, 2)}, {'count__analyzer': 'word', 'count__ngram_range': (1, 3)}, {'count__analyzer': 'char', 'count__ngram_range': (1, 1)}, {'count__analyzer': 'char', 'count__ngram_range': (1, 2)}, {'count__analyzer': 'char', 'count__ngram_range': (1, 3)}], 'split0_test_accuracy': array([0.546802  , 0.54003544, 0.51941357, 0.50604157, 0.54792976,\n",
            "       0.53987434]), 'split1_test_accuracy': array([0.61157691, 0.61625282, 0.60077394, 0.5765882 , 0.62576588,\n",
            "       0.62157369]), 'split2_test_accuracy': array([0.62479819, 0.62528253, 0.60397159, 0.58718114, 0.63561511,\n",
            "       0.62705844]), 'split3_test_accuracy': array([0.63457189, 0.63021002, 0.61405493, 0.59483037, 0.64071082,\n",
            "       0.63150242]), 'split4_test_accuracy': array([0.63529031, 0.63577551, 0.61879347, 0.59146046, 0.64046579,\n",
            "       0.63076177]), 'split5_test_accuracy': array([0.6308638 , 0.62892268, 0.61436428, 0.59640893, 0.64153995,\n",
            "       0.63523132]), 'split6_test_accuracy': array([0.64459197, 0.64362047, 0.62467617, 0.60718912, 0.64944948,\n",
            "       0.64345855]), 'split7_test_accuracy': array([0.65359053, 0.64921381, 0.63413843, 0.61160642, 0.66104717,\n",
            "       0.65440104]), 'split8_test_accuracy': array([0.60444372, 0.60120013, 0.58449562, 0.55806033, 0.61222835,\n",
            "       0.60963347]), 'split9_test_accuracy': array([0.55322947, 0.55387861, 0.53326842, 0.51639078, 0.56686141,\n",
            "       0.56085686]), 'mean_test_accuracy': array([0.61396387, 0.61242742, 0.59478255, 0.57456616, 0.62214747,\n",
            "       0.61541945]), 'std_test_accuracy': array([0.03476657, 0.03526873, 0.03670058, 0.03482416, 0.03489906,\n",
            "       0.03477252]), 'rank_test_accuracy': array([3, 4, 5, 6, 1, 2], dtype=int32), 'split0_test_precision_macro': array([0.44132814, 0.46163044, 0.45332817, 0.39735479, 0.44998912,\n",
            "       0.45965672]), 'split1_test_precision_macro': array([0.47738336, 0.49782079, 0.49079023, 0.44252269, 0.50777784,\n",
            "       0.52598489]), 'split2_test_precision_macro': array([0.49338349, 0.51464643, 0.50645453, 0.4597362 , 0.52189677,\n",
            "       0.52798501]), 'split3_test_precision_macro': array([0.51281983, 0.53228977, 0.5336842 , 0.46306347, 0.53799879,\n",
            "       0.54522056]), 'split4_test_precision_macro': array([0.51411539, 0.54604738, 0.54590031, 0.46624931, 0.5462513 ,\n",
            "       0.55166316]), 'split5_test_precision_macro': array([0.51676486, 0.52084737, 0.51466082, 0.46974959, 0.53595654,\n",
            "       0.54329335]), 'split6_test_precision_macro': array([0.52975133, 0.56217   , 0.54106957, 0.48111099, 0.55321514,\n",
            "       0.55926129]), 'split7_test_precision_macro': array([0.54171522, 0.55666127, 0.55301332, 0.48662651, 0.56456319,\n",
            "       0.57539018]), 'split8_test_precision_macro': array([0.49581346, 0.5159782 , 0.51464409, 0.440175  , 0.5232068 ,\n",
            "       0.53348407]), 'split9_test_precision_macro': array([0.4316524 , 0.44622422, 0.43017456, 0.39847638, 0.46032523,\n",
            "       0.47300669]), 'mean_test_precision_macro': array([0.49545465, 0.5154157 , 0.50835866, 0.45049503, 0.52009479,\n",
            "       0.52947202]), 'std_test_precision_macro': array([0.0342696 , 0.03622182, 0.03825442, 0.0296695 , 0.03603378,\n",
            "       0.03467378]), 'rank_test_precision_macro': array([5, 3, 4, 6, 2, 1], dtype=int32), 'split0_test_recall_macro': array([0.47321888, 0.45641013, 0.42762527, 0.44269708, 0.46482598,\n",
            "       0.44660598]), 'split1_test_recall_macro': array([0.51647796, 0.5075167 , 0.49022629, 0.49532427, 0.52247886,\n",
            "       0.51126493]), 'split2_test_recall_macro': array([0.53898199, 0.52938532, 0.50440531, 0.51992405, 0.54156463,\n",
            "       0.52444069]), 'split3_test_recall_macro': array([0.55342651, 0.53658858, 0.52183206, 0.52662322, 0.55298956,\n",
            "       0.53264736]), 'split4_test_recall_macro': array([0.54921477, 0.54177205, 0.51633267, 0.52037488, 0.54481138,\n",
            "       0.5254967 ]), 'split5_test_recall_macro': array([0.55608909, 0.53286587, 0.51464219, 0.51543921, 0.55284114,\n",
            "       0.53274547]), 'split6_test_recall_macro': array([0.56626271, 0.55153642, 0.52551473, 0.54555879, 0.55631512,\n",
            "       0.54055861]), 'split7_test_recall_macro': array([0.58642607, 0.57195343, 0.55227488, 0.56296579, 0.58904862,\n",
            "       0.58018136]), 'split8_test_recall_macro': array([0.53297605, 0.50787373, 0.49087962, 0.50606971, 0.53813076,\n",
            "       0.52582887]), 'split9_test_recall_macro': array([0.48008577, 0.46210366, 0.43731808, 0.44953336, 0.48159595,\n",
            "       0.46369281]), 'mean_test_recall_macro': array([0.53529278, 0.51978308, 0.49808614, 0.50842959, 0.53443466,\n",
            "       0.51831872]), 'std_test_recall_macro': array([0.03435354, 0.03520224, 0.03697365, 0.03601691, 0.03478447,\n",
            "       0.03613525]), 'rank_test_recall_macro': array([1, 3, 6, 5, 2, 4], dtype=int32), 'split0_test_f1_macro': array([0.4379528 , 0.43605853, 0.41191738, 0.39471325, 0.43853972,\n",
            "       0.42985631]), 'split1_test_f1_macro': array([0.48588305, 0.49027696, 0.47493588, 0.45091602, 0.50456266,\n",
            "       0.50094062]), 'split2_test_f1_macro': array([0.50598247, 0.51156694, 0.49106388, 0.47130005, 0.52409897,\n",
            "       0.514933  ]), 'split3_test_f1_macro': array([0.52370991, 0.52341973, 0.51002752, 0.4743294 , 0.53645508,\n",
            "       0.52520544]), 'split4_test_f1_macro': array([0.52301675, 0.53325181, 0.51418256, 0.47414992, 0.5368698 ,\n",
            "       0.5253378 ]), 'split5_test_f1_macro': array([0.52606469, 0.51999481, 0.50403716, 0.47818023, 0.53753558,\n",
            "       0.52985535]), 'split6_test_f1_macro': array([0.53800062, 0.54703682, 0.5207314 , 0.49368626, 0.54737864,\n",
            "       0.5404957 ]), 'split7_test_f1_macro': array([0.55033455, 0.55156062, 0.53662123, 0.50057129, 0.56583578,\n",
            "       0.56644271]), 'split8_test_f1_macro': array([0.50073981, 0.49582557, 0.48307375, 0.45291352, 0.51863787,\n",
            "       0.51683959]), 'split9_test_f1_macro': array([0.44376949, 0.44443116, 0.42273387, 0.40586556, 0.46265704,\n",
            "       0.45544128]), 'mean_test_f1_macro': array([0.50352346, 0.50532181, 0.48691052, 0.4596451 , 0.51722948,\n",
            "       0.51050357]), 'std_test_f1_macro': array([0.0358747 , 0.03749871, 0.03886664, 0.03312228, 0.03718513,\n",
            "       0.03812277]), 'rank_test_f1_macro': array([4, 3, 5, 6, 1, 2], dtype=int32)}\n",
            "Best params:\n",
            "{'count__analyzer': 'char', 'count__ngram_range': (1, 2)}\n",
            "Best score:\n",
            "0.6221474664812149\n"
          ],
          "name": "stdout"
        }
      ]
    },
    {
      "cell_type": "markdown",
      "metadata": {
        "id": "cX4TjcQQKdPS",
        "colab_type": "text"
      },
      "source": [
        "### Translated CHN SVM"
      ]
    },
    {
      "cell_type": "code",
      "metadata": {
        "id": "yqnkUCGcMEQp",
        "colab_type": "code",
        "outputId": "8bd7b1f4-1ff7-4faf-8101-ee85f6c0d1e7",
        "colab": {
          "base_uri": "https://localhost:8080/",
          "height": 1000
        }
      },
      "source": [
        "tokenize_test_pipeline(model='svm')"
      ],
      "execution_count": 0,
      "outputs": [
        {
          "output_type": "stream",
          "text": [
            "Fitting 10 folds for each of 6 candidates, totalling 60 fits\n"
          ],
          "name": "stdout"
        },
        {
          "output_type": "stream",
          "text": [
            "[Parallel(n_jobs=-1)]: Using backend LokyBackend with 2 concurrent workers.\n",
            "/usr/local/lib/python3.6/dist-packages/joblib/externals/loky/process_executor.py:706: UserWarning: A worker stopped while some jobs were given to the executor. This can be caused by a too short worker timeout or by a memory leak.\n",
            "  \"timeout or by a memory leak.\", UserWarning\n",
            "[Parallel(n_jobs=-1)]: Done  46 tasks      | elapsed: 40.0min\n",
            "[Parallel(n_jobs=-1)]: Done  60 out of  60 | elapsed: 59.3min finished\n"
          ],
          "name": "stderr"
        },
        {
          "output_type": "stream",
          "text": [
            "[LibLinear]Linear SVM\n",
            "------------------\n",
            "Scores: \n",
            "{'mean_fit_time': array([ 36.74613323, 114.18015513, 211.60840144,  26.01608417,\n",
            "        76.03504174, 193.95257936]), 'std_fit_time': array([ 1.06753452,  4.28348639, 10.43651527,  1.69808619,  3.9286417 ,\n",
            "        5.92905862]), 'mean_score_time': array([ 7.76997623, 13.46118484, 19.32058494,  1.13208673,  2.74970307,\n",
            "        4.30341444]), 'std_score_time': array([0.29386989, 0.47636575, 0.64667953, 0.05233927, 0.16295863,\n",
            "       0.64612305]), 'param_count__analyzer': masked_array(data=['word', 'word', 'word', 'char', 'char', 'char'],\n",
            "             mask=[False, False, False, False, False, False],\n",
            "       fill_value='?',\n",
            "            dtype=object), 'param_count__ngram_range': masked_array(data=[(1, 1), (1, 2), (1, 3), (1, 1), (1, 2), (1, 3)],\n",
            "             mask=[False, False, False, False, False, False],\n",
            "       fill_value='?',\n",
            "            dtype=object), 'params': [{'count__analyzer': 'word', 'count__ngram_range': (1, 1)}, {'count__analyzer': 'word', 'count__ngram_range': (1, 2)}, {'count__analyzer': 'word', 'count__ngram_range': (1, 3)}, {'count__analyzer': 'char', 'count__ngram_range': (1, 1)}, {'count__analyzer': 'char', 'count__ngram_range': (1, 2)}, {'count__analyzer': 'char', 'count__ngram_range': (1, 3)}], 'split0_test_accuracy': array([0.57612373, 0.61043983, 0.59819559, 0.51973578, 0.60657322,\n",
            "       0.61027872]), 'split1_test_accuracy': array([0.63850371, 0.68606901, 0.67768462, 0.58916479, 0.68768139,\n",
            "       0.68381167]), 'split2_test_accuracy': array([0.66257669, 0.69680336, 0.68840814, 0.59928964, 0.69777204,\n",
            "       0.70164675]), 'split3_test_accuracy': array([0.65621971, 0.69030695, 0.68400646, 0.59402262, 0.69240711,\n",
            "       0.69515347]), 'split4_test_accuracy': array([0.66213812, 0.69545528, 0.68704512, 0.60067928, 0.69189714,\n",
            "       0.69497008]), 'split5_test_accuracy': array([0.65270139, 0.68828858, 0.6813329 , 0.59915885, 0.69039146,\n",
            "       0.69330314]), 'split6_test_accuracy': array([0.67195596, 0.71033031, 0.70304404, 0.61755181, 0.70352979,\n",
            "       0.70239637]), 'split7_test_accuracy': array([0.67579835, 0.71518885, 0.71048792, 0.61598314, 0.72086238,\n",
            "       0.71632355]), 'split8_test_accuracy': array([0.63314953, 0.67937074, 0.6725592 , 0.56487188, 0.67904638,\n",
            "       0.68456049]), 'split9_test_accuracy': array([0.58666018, 0.62966569, 0.62706913, 0.53148328, 0.63615709,\n",
            "       0.64118793]), 'mean_test_accuracy': array([0.64157138, 0.68017661, 0.6729634 , 0.58318643, 0.68061328,\n",
            "       0.68234381]), 'std_test_accuracy': array([0.03267981, 0.03204731, 0.03266728, 0.03204243, 0.03212983,\n",
            "       0.0304618 ]), 'rank_test_accuracy': array([5, 3, 4, 6, 2, 1], dtype=int32), 'split0_test_precision_macro': array([0.45573882, 0.52339037, 0.53163194, 0.39799925, 0.50651232,\n",
            "       0.52914304]), 'split1_test_precision_macro': array([0.5002387 , 0.5804572 , 0.58548913, 0.45482039, 0.57509542,\n",
            "       0.58206557]), 'split2_test_precision_macro': array([0.52516362, 0.59064899, 0.60534551, 0.46727265, 0.5978388 ,\n",
            "       0.61271113]), 'split3_test_precision_macro': array([0.53205544, 0.58913293, 0.59975623, 0.46502601, 0.58677353,\n",
            "       0.59705622]), 'split4_test_precision_macro': array([0.53549402, 0.60737385, 0.62443773, 0.46538076, 0.58732762,\n",
            "       0.61742454]), 'split5_test_precision_macro': array([0.53306422, 0.59707489, 0.60448805, 0.46312647, 0.59252399,\n",
            "       0.60763616]), 'split6_test_precision_macro': array([0.54819918, 0.6303008 , 0.62301735, 0.48201999, 0.62250851,\n",
            "       0.63055792]), 'split7_test_precision_macro': array([0.5567103 , 0.62180886, 0.63013998, 0.48461264, 0.6222071 ,\n",
            "       0.6193785 ]), 'split8_test_precision_macro': array([0.51686359, 0.59864022, 0.62133322, 0.43278081, 0.59993386,\n",
            "       0.62739908]), 'split9_test_precision_macro': array([0.45960848, 0.51089128, 0.53069118, 0.40383046, 0.52486898,\n",
            "       0.53668905]), 'mean_test_precision_macro': array([0.51629462, 0.58495587, 0.5956112 , 0.45168173, 0.58153157,\n",
            "       0.5959811 ]), 'std_test_precision_macro': array([0.03281178, 0.03686059, 0.03468944, 0.02877974, 0.03606218,\n",
            "       0.03432825]), 'rank_test_precision_macro': array([5, 3, 2, 6, 4, 1], dtype=int32), 'split0_test_recall_macro': array([0.46776376, 0.4830414 , 0.46437436, 0.43920298, 0.49404621,\n",
            "       0.48537799]), 'split1_test_recall_macro': array([0.52160887, 0.54675812, 0.53129113, 0.49540128, 0.55732202,\n",
            "       0.54528407]), 'split2_test_recall_macro': array([0.53999261, 0.56471094, 0.54818298, 0.51107894, 0.57277854,\n",
            "       0.56590754]), 'split3_test_recall_macro': array([0.54755791, 0.56103538, 0.54353069, 0.5160827 , 0.56991937,\n",
            "       0.56223166]), 'split4_test_recall_macro': array([0.54793124, 0.57132179, 0.54767568, 0.51084836, 0.56422743,\n",
            "       0.5634052 ]), 'split5_test_recall_macro': array([0.54560933, 0.56140823, 0.53820624, 0.4994912 , 0.57231231,\n",
            "       0.56603253]), 'split6_test_recall_macro': array([0.56312146, 0.57531615, 0.55967855, 0.5310355 , 0.58159921,\n",
            "       0.56786962]), 'split7_test_recall_macro': array([0.58159996, 0.59955468, 0.58872639, 0.55117651, 0.61393032,\n",
            "       0.59518281]), 'split8_test_recall_macro': array([0.53344185, 0.55508618, 0.53813605, 0.48733651, 0.57518672,\n",
            "       0.56367828]), 'split9_test_recall_macro': array([0.48328314, 0.49505334, 0.48206186, 0.44705316, 0.51297972,\n",
            "       0.50677251]), 'mean_test_recall_macro': array([0.53316723, 0.55130847, 0.53416327, 0.49885588, 0.56140407,\n",
            "       0.55215028]), 'std_test_recall_macro': array([0.03281997, 0.03397428, 0.03423876, 0.03278325, 0.03253754,\n",
            "       0.03068027]), 'rank_test_recall_macro': array([5, 3, 4, 6, 1, 2], dtype=int32), 'split0_test_f1_macro': array([0.45290841, 0.49023451, 0.47535568, 0.40215556, 0.48960512,\n",
            "       0.49085345]), 'split1_test_f1_macro': array([0.50582089, 0.55395387, 0.54587049, 0.46402933, 0.55996828,\n",
            "       0.55375605]), 'split2_test_f1_macro': array([0.52899431, 0.57032715, 0.56054428, 0.47901409, 0.57810085,\n",
            "       0.5784998 ]), 'split3_test_f1_macro': array([0.53634754, 0.56795534, 0.55711336, 0.47721155, 0.57361449,\n",
            "       0.57040444]), 'split4_test_f1_macro': array([0.53708738, 0.58253303, 0.57019231, 0.47438655, 0.56922754,\n",
            "       0.57977399]), 'split5_test_f1_macro': array([0.53487097, 0.57202087, 0.55595927, 0.4711142 , 0.57642291,\n",
            "       0.57759705]), 'split6_test_f1_macro': array([0.55087598, 0.59228889, 0.57780721, 0.49379578, 0.59267933,\n",
            "       0.58670215]), 'split7_test_f1_macro': array([0.56010177, 0.60085933, 0.59557085, 0.49881889, 0.60888667,\n",
            "       0.59579082]), 'split8_test_f1_macro': array([0.5185119 , 0.56713687, 0.56057125, 0.44764729, 0.58127522,\n",
            "       0.58141497]), 'split9_test_f1_macro': array([0.46574791, 0.49802249, 0.49302478, 0.41255739, 0.51321167,\n",
            "       0.51538251]), 'mean_test_f1_macro': array([0.51910579, 0.55951303, 0.54917628, 0.46206386, 0.56427157,\n",
            "       0.56299104]), 'std_test_f1_macro': array([0.03326586, 0.03511223, 0.03521328, 0.03059643, 0.03427091,\n",
            "       0.03214452]), 'rank_test_f1_macro': array([5, 3, 4, 6, 1, 2], dtype=int32)}\n",
            "Best params:\n",
            "{'count__analyzer': 'char', 'count__ngram_range': (1, 3)}\n",
            "Best score:\n",
            "0.6823438081221394\n"
          ],
          "name": "stdout"
        }
      ]
    }
  ]
}