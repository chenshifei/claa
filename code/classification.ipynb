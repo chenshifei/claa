{
 "nbformat": 4,
 "nbformat_minor": 2,
 "metadata": {
  "language_info": {
   "name": "python",
   "codemirror_mode": {
    "name": "ipython",
    "version": 3
   },
   "version": "3.7.5"
  },
  "orig_nbformat": 2,
  "file_extension": ".py",
  "mimetype": "text/x-python",
  "name": "python",
  "npconvert_exporter": "python",
  "pygments_lexer": "ipython3",
  "version": 3
 },
 "cells": [
  {
   "cell_type": "markdown",
   "execution_count": null,
   "metadata": {},
   "outputs": [],
   "source": [
    "## Preprocess the tweets"
   ]
  },
  {
   "cell_type": "code",
   "execution_count": 1,
   "metadata": {},
   "outputs": [
    {
     "data": {
      "text/plain": "(69519, 3)"
     },
     "execution_count": 1,
     "metadata": {},
     "output_type": "execute_result"
    }
   ],
   "source": [
    "import pandas as pd\n",
    "\n",
    "df = pd.read_csv('../data/tweets_original.csv')\n",
    "df.shape"
   ]
  },
  {
   "cell_type": "code",
   "execution_count": 2,
   "metadata": {},
   "outputs": [
    {
     "data": {
      "text/html": "<div>\n<style scoped>\n    .dataframe tbody tr th:only-of-type {\n        vertical-align: middle;\n    }\n\n    .dataframe tbody tr th {\n        vertical-align: top;\n    }\n\n    .dataframe thead th {\n        text-align: right;\n    }\n</style>\n<table border=\"1\" class=\"dataframe\">\n  <thead>\n    <tr style=\"text-align: right;\">\n      <th></th>\n      <th>id_str</th>\n      <th>screen_name</th>\n      <th>raw_text</th>\n      <th>clean_text</th>\n    </tr>\n  </thead>\n  <tbody>\n    <tr>\n      <th>0</th>\n      <td>1193152895337689088</td>\n      <td>YXSzzzz</td>\n      <td>@gww067 Haha there is no way Ryza is not cute 😂</td>\n      <td>Haha there is no way Ryza is not cute</td>\n    </tr>\n    <tr>\n      <th>1</th>\n      <td>1193152895337689088</td>\n      <td>YXSzzzz</td>\n      <td>@somberness :DDD</td>\n      <td></td>\n    </tr>\n    <tr>\n      <th>2</th>\n      <td>1193152895337689088</td>\n      <td>YXSzzzz</td>\n      <td>@IthzelDoe Love. 🤣</td>\n      <td>Love. 🤣</td>\n    </tr>\n    <tr>\n      <th>3</th>\n      <td>1193152895337689088</td>\n      <td>YXSzzzz</td>\n      <td>😮😮😮 https://t.co/l4jcdkz67Z</td>\n      <td></td>\n    </tr>\n    <tr>\n      <th>4</th>\n      <td>1193152895337689088</td>\n      <td>YXSzzzz</td>\n      <td>@Kyonko802 😮</td>\n      <td></td>\n    </tr>\n  </tbody>\n</table>\n</div>",
      "text/plain": "                id_str screen_name  \\\n0  1193152895337689088     YXSzzzz   \n1  1193152895337689088     YXSzzzz   \n2  1193152895337689088     YXSzzzz   \n3  1193152895337689088     YXSzzzz   \n4  1193152895337689088     YXSzzzz   \n\n                                          raw_text  \\\n0  @gww067 Haha there is no way Ryza is not cute 😂   \n1                                 @somberness :DDD   \n2                               @IthzelDoe Love. 🤣   \n3                      😮😮😮 https://t.co/l4jcdkz67Z   \n4                                     @Kyonko802 😮   \n\n                              clean_text  \n0  Haha there is no way Ryza is not cute  \n1                                         \n2                                Love. 🤣  \n3                                         \n4                                         "
     },
     "execution_count": 2,
     "metadata": {},
     "output_type": "execute_result"
    }
   ],
   "source": [
    "from opencc import OpenCC\n",
    "import preprocessor as p\n",
    "\n",
    "cc = OpenCC('t2s')\n",
    "\n",
    "def clean_text(raw_text):\n",
    "    detweeted_text = p.clean(raw_text)\n",
    "    simplied_text = cc.convert(detweeted_text)\n",
    "    return simplied_text\n",
    "\n",
    "\n",
    "df['clean_text'] = df['raw_text'].apply(clean_text)\n",
    "df.head()"
   ]
  },
  {
   "cell_type": "code",
   "execution_count": 3,
   "metadata": {},
   "outputs": [
    {
     "data": {
      "text/plain": "(64888, 4)"
     },
     "execution_count": 3,
     "metadata": {},
     "output_type": "execute_result"
    }
   ],
   "source": [
    "import numpy as np\n",
    "\n",
    "df = df.replace(r'^\\s*$', np.nan, regex=True)\n",
    "df = df.dropna()\n",
    "df.shape"
   ]
  },
  {
   "cell_type": "markdown",
   "execution_count": null,
   "metadata": {},
   "outputs": [],
   "source": [
    "## Vectorize the tweets"
   ]
  },
  {
   "cell_type": "code",
   "execution_count": 4,
   "metadata": {},
   "outputs": [],
   "source": [
    "from polyglot.text import Text\n",
    "from sklearn.feature_extraction.text import CountVectorizer, TfidfTransformer\n",
    "from sklearn.model_selection import KFold\n",
    "\n",
    "X = df.clean_text\n",
    "y = df.screen_name\n",
    "\n",
    "def ploy_tokenizer(raw_text):\n",
    "    return Text(raw_text).words\n",
    "\n",
    "count_vectorizer = CountVectorizer(tokenizer=ploy_tokenizer)\n",
    "tf_transformer = TfidfTransformer()\n",
    "\n",
    "kf = KFold(n_splits=10, shuffle=True, random_state=1)"
   ]
  },
  {
   "cell_type": "markdown",
   "execution_count": null,
   "metadata": {},
   "outputs": [],
   "source": [
    "## Classification"
   ]
  },
  {
   "cell_type": "code",
   "execution_count": 5,
   "metadata": {},
   "outputs": [],
   "source": [
    "import logging\n",
    "\n",
    "from sklearn.model_selection import GridSearchCV\n",
    "from sklearn.naive_bayes import MultinomialNB\n",
    "from sklearn.linear_model import LogisticRegression\n",
    "from sklearn.svm import LinearSVC\n",
    "from sklearn.pipeline import Pipeline\n",
    "from sklearn import metrics\n",
    "\n",
    "logging.getLogger().setLevel(logging.ERROR)\n",
    "\n",
    "nb = MultinomialNB()\n",
    "lr = LogisticRegression(solver='liblinear', multi_class='auto')\n",
    "svm = LinearSVC()\n",
    "\n",
    "scoring = ['accuracy', 'precision_macro', 'recall_macro', 'f1_macro']\n",
    "\n",
    "def tokenize_test_pipeline(model):\n",
    "    pipe = Pipeline([\n",
    "        ('count', count_vectorizer),\n",
    "        ('tfidf', tf_transformer),\n",
    "        ('clf', globals()[model]),\n",
    "    ])\n",
    "\n",
    "    params = {\n",
    "        'count__ngram_range': [(1, 1), (1, 2), (1, 3), (1, 4), (1, 5)],\n",
    "        'count__analyzer': ['word', 'char'],\n",
    "    }\n",
    "\n",
    "    algorithm = ''\n",
    "    if model.startswith('lr'):\n",
    "        algorithm = 'Logistic Regression'\n",
    "    elif model.startswith('nb'):\n",
    "        algorithm = 'Multinomial Naive Bayes'\n",
    "    elif model.startswith('svm'):\n",
    "        algorithm = 'Linear SVM'\n",
    "\n",
    "    gd_clf = GridSearchCV(pipe, params, cv=10, scoring=scoring, n_jobs=-1, refit='f1_macro')\n",
    "    gd_clf.fit(X, y)\n",
    "\n",
    "    print(algorithm)\n",
    "    print('------------------')\n",
    "    print('Scores: ')\n",
    "    print(gd_clf.cv_results_)\n",
    "    print('Best params:')\n",
    "    print(gd_clf.best_params_)\n",
    "    print('Best score:')\n",
    "    print(gd_clf.best_score_)"
   ]
  },
  {
   "cell_type": "markdown",
   "execution_count": null,
   "metadata": {},
   "outputs": [],
   "source": [
    "### Naive Bayes"
   ]
  },
  {
   "cell_type": "code",
   "execution_count": 75,
   "metadata": {},
   "outputs": [
    {
     "name": "stdout",
     "output_type": "stream",
     "text": "Multinomial Naive Bayes\n------------------\nScores: \n{'mean_fit_time': array([ 22.82143555,  54.0353518 ,  89.37386882, 116.17271426,\n       166.75812354,   5.2865149 ,  13.01191733,  28.52952027,\n        49.60075006,  84.00029309]), 'std_fit_time': array([ 0.51038264,  1.56401284,  5.77294014,  4.50866494, 12.90599934,\n        1.15951596,  0.38834506,  1.42791471,  2.55377926, 20.5300274 ]), 'mean_score_time': array([10.34100204, 21.44172318, 33.2644012 , 49.1438055 , 76.52168016,\n        2.64268632,  5.2288317 , 12.6390388 , 18.72427282, 57.66140523]), 'std_score_time': array([ 0.56706378,  1.85646073,  4.64300491,  9.24574801, 17.5837646 ,\n        0.64748692,  0.39634994,  2.37079997,  3.46028468, 28.57153615]), 'param_count__analyzer': masked_array(data=['word', 'word', 'word', 'word', 'word', 'char', 'char',\n                   'char', 'char', 'char'],\n             mask=[False, False, False, False, False, False, False, False,\n                   False, False],\n       fill_value='?',\n            dtype=object), 'param_count__ngram_range': masked_array(data=[(1, 1), (1, 2), (1, 3), (1, 4), (1, 5), (1, 1), (1, 2),\n                   (1, 3), (1, 4), (1, 5)],\n             mask=[False, False, False, False, False, False, False, False,\n                   False, False],\n       fill_value='?',\n            dtype=object), 'params': [{'count__analyzer': 'word', 'count__ngram_range': (1, 1)}, {'count__analyzer': 'word', 'count__ngram_range': (1, 2)}, {'count__analyzer': 'word', 'count__ngram_range': (1, 3)}, {'count__analyzer': 'word', 'count__ngram_range': (1, 4)}, {'count__analyzer': 'word', 'count__ngram_range': (1, 5)}, {'count__analyzer': 'char', 'count__ngram_range': (1, 1)}, {'count__analyzer': 'char', 'count__ngram_range': (1, 2)}, {'count__analyzer': 'char', 'count__ngram_range': (1, 3)}, {'count__analyzer': 'char', 'count__ngram_range': (1, 4)}, {'count__analyzer': 'char', 'count__ngram_range': (1, 5)}], 'split0_test_accuracy': array([0.48348441, 0.49101244, 0.49039791, 0.48717161, 0.48394531,\n       0.32785374, 0.32524197, 0.35074512, 0.36795207, 0.3754801 ]), 'split1_test_accuracy': array([0.54411313, 0.55533354, 0.55348909, 0.55133723, 0.54826314,\n       0.36151245, 0.37242545, 0.41192745, 0.4352905 , 0.44789425]), 'split2_test_accuracy': array([0.53614273, 0.55106121, 0.54690864, 0.54444786, 0.54290987,\n       0.34681636, 0.3551215 , 0.3951092 , 0.42571516, 0.44417102]), 'split3_test_accuracy': array([0.56687702, 0.57595813, 0.57226412, 0.56872403, 0.5657996 ,\n       0.36493766, 0.36693859, 0.41434508, 0.44451285, 0.46329075]), 'split4_test_accuracy': array([0.5723968 , 0.57686383, 0.57162662, 0.5680838 , 0.5663894 ,\n       0.37045595, 0.3823167 , 0.4271411 , 0.45040049, 0.46395564]), 'split5_test_accuracy': array([0.58402714, 0.58556892, 0.57893925, 0.57539315, 0.57246377,\n       0.36370644, 0.37881591, 0.42614863, 0.4546716 , 0.47101449]), 'split6_test_accuracy': array([0.60506017, 0.60860845, 0.60552299, 0.60151188, 0.59935205,\n       0.36886763, 0.3795125 , 0.43721074, 0.46667695, 0.48765813]), 'split7_test_accuracy': array([0.5994441 , 0.60160593, 0.59620136, 0.59203212, 0.58987029,\n       0.39592341, 0.39546016, 0.44348363, 0.47143298, 0.48780111]), 'split8_test_accuracy': array([0.58321743, 0.58847164, 0.58368104, 0.57981765, 0.57595426,\n       0.36300417, 0.3713491 , 0.42389121, 0.45927986, 0.47782414]), 'split9_test_accuracy': array([0.51724138, 0.52559146, 0.51909695, 0.51383949, 0.51152002,\n       0.34297201, 0.36137313, 0.392454  , 0.41549405, 0.43745168]), 'mean_test_accuracy': array([0.55916348, 0.56597522, 0.56178338, 0.55820799, 0.55561891,\n       0.36059056, 0.36883553, 0.41221798, 0.43911047, 0.45561583]), 'std_test_accuracy': array([0.03661721, 0.03433408, 0.03360233, 0.03353381, 0.0336224 ,\n       0.01738266, 0.01809929, 0.02574913, 0.02904454, 0.03143009]), 'rank_test_accuracy': array([ 3,  1,  2,  4,  5, 10,  9,  8,  7,  6], dtype=int32), 'split0_test_precision_macro': array([0.37961342, 0.39789289, 0.39818897, 0.39644193, 0.37401374,\n       0.28442333, 0.27783409, 0.30041315, 0.29346147, 0.30586594]), 'split1_test_precision_macro': array([0.4471048 , 0.43748237, 0.46059471, 0.46135436, 0.46120438,\n       0.31586934, 0.34244266, 0.36896183, 0.36784647, 0.38409253]), 'split2_test_precision_macro': array([0.49515763, 0.43471599, 0.4350619 , 0.45593942, 0.47850613,\n       0.36012716, 0.36707402, 0.35893021, 0.37717699, 0.37044453]), 'split3_test_precision_macro': array([0.40255034, 0.43666866, 0.43840728, 0.43861313, 0.43935266,\n       0.3513886 , 0.35895331, 0.3859699 , 0.38109185, 0.39686693]), 'split4_test_precision_macro': array([0.43391305, 0.44343871, 0.48848436, 0.48827465, 0.48340191,\n       0.35473101, 0.35745825, 0.38525274, 0.36225547, 0.4102558 ]), 'split5_test_precision_macro': array([0.42539592, 0.4386258 , 0.4505094 , 0.45537149, 0.45419258,\n       0.35386703, 0.38655062, 0.38107417, 0.40607528, 0.40426902]), 'split6_test_precision_macro': array([0.46431307, 0.47291123, 0.49457216, 0.46945069, 0.4896341 ,\n       0.34618284, 0.36229048, 0.39176535, 0.39172668, 0.44078452]), 'split7_test_precision_macro': array([0.48998715, 0.47537795, 0.47249486, 0.47364939, 0.49385053,\n       0.37959274, 0.36722069, 0.41533672, 0.42822506, 0.43144645]), 'split8_test_precision_macro': array([0.47960086, 0.46553141, 0.46599232, 0.50495897, 0.50464428,\n       0.34881963, 0.34266799, 0.37517361, 0.37443   , 0.40720544]), 'split9_test_precision_macro': array([0.41283892, 0.43892831, 0.41678659, 0.42075994, 0.42343875,\n       0.34184554, 0.3225727 , 0.36088468, 0.33019066, 0.40365126]), 'mean_test_precision_macro': array([0.44302327, 0.44412522, 0.45209097, 0.4564572 , 0.46019027,\n       0.34365519, 0.34849195, 0.37234476, 0.37122292, 0.39543495]), 'std_test_precision_macro': array([0.03701841, 0.02156356, 0.02906175, 0.03008293, 0.03756346,\n       0.02485431, 0.02876154, 0.02858514, 0.03585499, 0.03557574]), 'rank_test_precision_macro': array([ 5,  4,  3,  2,  1, 10,  9,  7,  8,  6], dtype=int32), 'split0_test_recall_macro': array([0.24885009, 0.25269671, 0.25201647, 0.24933139, 0.24749661,\n       0.16390442, 0.15356659, 0.16868914, 0.17899973, 0.18388429]), 'split1_test_recall_macro': array([0.27834079, 0.2864783 , 0.28716215, 0.28512089, 0.28305261,\n       0.18086488, 0.17943561, 0.20165029, 0.21584546, 0.22351085]), 'split2_test_recall_macro': array([0.28206763, 0.2903583 , 0.28909949, 0.28742422, 0.28677514,\n       0.18003488, 0.17467539, 0.1974839 , 0.21556664, 0.22658419]), 'split3_test_recall_macro': array([0.29531799, 0.30254987, 0.29984327, 0.29711546, 0.29491695,\n       0.19260001, 0.18203992, 0.20848458, 0.22603399, 0.23707758]), 'split4_test_recall_macro': array([0.29938703, 0.30090838, 0.29936905, 0.29713752, 0.29575955,\n       0.19430354, 0.18661761, 0.21300451, 0.22700659, 0.23668729]), 'split5_test_recall_macro': array([0.30605816, 0.30580081, 0.30069022, 0.29877369, 0.29654374,\n       0.18944193, 0.18761177, 0.2124103 , 0.22761919, 0.23801559]), 'split6_test_recall_macro': array([0.32449748, 0.32421576, 0.32423465, 0.3213982 , 0.31959972,\n       0.1928825 , 0.19216812, 0.22307025, 0.23853159, 0.25120344]), 'split7_test_recall_macro': array([0.33365156, 0.33389274, 0.33048426, 0.32706727, 0.3254678 ,\n       0.21071099, 0.20145103, 0.24180547, 0.25640832, 0.26673014]), 'split8_test_recall_macro': array([0.32268028, 0.32483845, 0.32243995, 0.32228425, 0.3249459 ,\n       0.19368156, 0.18973663, 0.21904175, 0.25063991, 0.26780675]), 'split9_test_recall_macro': array([0.2805492 , 0.29404477, 0.28868499, 0.28477109, 0.28281688,\n       0.18263657, 0.18107163, 0.19667983, 0.20823249, 0.24442635]), 'mean_test_recall_macro': array([0.29710493, 0.30154422, 0.2993709 , 0.29701109, 0.29570511,\n       0.1880912 , 0.18281969, 0.20820859, 0.22446083, 0.23755207]), 'std_test_recall_macro': array([0.02451934, 0.02218334, 0.02175952, 0.02190754, 0.02246261,\n       0.01165935, 0.01207829, 0.01833691, 0.02099551, 0.02281311]), 'rank_test_recall_macro': array([ 3,  1,  2,  4,  5,  9, 10,  8,  7,  6], dtype=int32), 'split0_test_f1_macro': array([0.2318096 , 0.23621709, 0.23602542, 0.23281362, 0.23129222,\n       0.15627208, 0.14271226, 0.16056017, 0.16931535, 0.17350419]), 'split1_test_f1_macro': array([0.25957094, 0.27053563, 0.27285722, 0.27039011, 0.26851539,\n       0.17859747, 0.17529216, 0.19703892, 0.20913256, 0.21412601]), 'split2_test_f1_macro': array([0.27122094, 0.28012647, 0.28117802, 0.27957513, 0.27987565,\n       0.18685004, 0.17537286, 0.20052749, 0.21478072, 0.22340944]), 'split3_test_f1_macro': array([0.27608576, 0.28749728, 0.28422458, 0.28167926, 0.27953903,\n       0.20115565, 0.18657349, 0.21267634, 0.22610688, 0.23400464]), 'split4_test_f1_macro': array([0.28339776, 0.28506757, 0.28631248, 0.2842598 , 0.2830461 ,\n       0.19885359, 0.18411891, 0.21275579, 0.22301577, 0.23231658]), 'split5_test_f1_macro': array([0.29050986, 0.29061752, 0.28473213, 0.28339323, 0.28069437,\n       0.19492658, 0.18966307, 0.21263134, 0.22614299, 0.23525633]), 'split6_test_f1_macro': array([0.31444741, 0.3131404 , 0.31534262, 0.3120883 , 0.31018382,\n       0.19643932, 0.19896116, 0.22973938, 0.24222558, 0.25405736]), 'split7_test_f1_macro': array([0.32238657, 0.32399785, 0.32072286, 0.31656747, 0.31503842,\n       0.21531483, 0.20644576, 0.24770816, 0.25753144, 0.26746201]), 'split8_test_f1_macro': array([0.30790897, 0.31162118, 0.31029154, 0.31243784, 0.31677543,\n       0.1968469 , 0.19553713, 0.22778507, 0.25248531, 0.26900454]), 'split9_test_f1_macro': array([0.27390004, 0.28599379, 0.27988878, 0.27583981, 0.27374691,\n       0.18905222, 0.18398476, 0.20068807, 0.20926157, 0.24964281]), 'mean_test_f1_macro': array([0.28308322, 0.28844327, 0.28712285, 0.28486933, 0.2838345 ,\n       0.19141111, 0.18384017, 0.21017942, 0.22296572, 0.23522844]), 'std_test_f1_macro': array([0.02580655, 0.02357243, 0.02320138, 0.02356129, 0.02428602,\n       0.01489108, 0.01660782, 0.0222302 , 0.02405299, 0.0267471 ]), 'rank_test_f1_macro': array([ 5,  1,  2,  3,  4,  9, 10,  8,  7,  6], dtype=int32)}\n------------------\n"
    }
   ],
   "source": [
    "tokenize_test_pipeline(model='nb')"
   ]
  },
  {
   "cell_type": "markdown",
   "execution_count": null,
   "metadata": {},
   "outputs": [],
   "source": [
    "### Logistic Regression"
   ]
  },
  {
   "cell_type": "code",
   "execution_count": 6,
   "metadata": {},
   "outputs": [
    {
     "name": "stdout",
     "output_type": "stream",
     "text": "Logistic Regression\n------------------\nScores: \n{'mean_fit_time': array([ 55.95206192, 165.05135224, 308.45796001, 490.74182959,\n       704.78875749,  66.92583542, 191.42893808, 360.63658466,\n       680.21014888, 954.86220932]), 'std_fit_time': array([  5.47236038,   3.15659445,  19.47056584,  28.42158136,\n        49.85140343,   4.30012517,  16.19323012,  13.34457513,\n        24.63225834, 223.7896533 ]), 'mean_score_time': array([10.52984135, 19.17915235, 31.2358391 , 46.58561313, 65.17891693,\n        2.07769601,  5.42040668,  9.6248826 , 16.75403554, 18.83134894]), 'std_score_time': array([ 0.25791863,  1.43874218,  2.07569077,  5.780974  , 19.62611423,\n        0.14130892,  0.44013282,  0.62595665,  0.98055509,  8.11656266]), 'param_count__analyzer': masked_array(data=['word', 'word', 'word', 'word', 'word', 'char', 'char',\n                   'char', 'char', 'char'],\n             mask=[False, False, False, False, False, False, False, False,\n                   False, False],\n       fill_value='?',\n            dtype=object), 'param_count__ngram_range': masked_array(data=[(1, 1), (1, 2), (1, 3), (1, 4), (1, 5), (1, 1), (1, 2),\n                   (1, 3), (1, 4), (1, 5)],\n             mask=[False, False, False, False, False, False, False, False,\n                   False, False],\n       fill_value='?',\n            dtype=object), 'params': [{'count__analyzer': 'word', 'count__ngram_range': (1, 1)}, {'count__analyzer': 'word', 'count__ngram_range': (1, 2)}, {'count__analyzer': 'word', 'count__ngram_range': (1, 3)}, {'count__analyzer': 'word', 'count__ngram_range': (1, 4)}, {'count__analyzer': 'word', 'count__ngram_range': (1, 5)}, {'count__analyzer': 'char', 'count__ngram_range': (1, 1)}, {'count__analyzer': 'char', 'count__ngram_range': (1, 2)}, {'count__analyzer': 'char', 'count__ngram_range': (1, 3)}, {'count__analyzer': 'char', 'count__ngram_range': (1, 4)}, {'count__analyzer': 'char', 'count__ngram_range': (1, 5)}], 'split0_test_accuracy': array([0.59794131, 0.58150253, 0.55369488, 0.53233984, 0.51743739,\n       0.4724228 , 0.55477032, 0.5818098 , 0.58073437, 0.57643263]), 'split1_test_accuracy': array([0.66400246, 0.65016907, 0.62557639, 0.60728558, 0.59606517,\n       0.52812788, 0.62911159, 0.65585613, 0.65385798, 0.64770981]), 'split2_test_accuracy': array([0.67625346, 0.65872039, 0.62919102, 0.6050446 , 0.58566595,\n       0.5136881 , 0.6311904 , 0.66487235, 0.66333436, 0.65656721]), 'split3_test_accuracy': array([0.68092966, 0.65876558, 0.63167616, 0.61428352, 0.59966138,\n       0.53224565, 0.6382946 , 0.66830845, 0.66723103, 0.66030476]), 'split4_test_accuracy': array([0.68638324, 0.6668207 , 0.64140481, 0.62030191, 0.6047443 ,\n       0.54004929, 0.64802834, 0.67744917, 0.67652495, 0.6706716 ]), 'split5_test_accuracy': array([0.69071847, 0.67267962, 0.65047795, 0.63182239, 0.61640456,\n       0.53607771, 0.64708603, 0.67745914, 0.67977182, 0.67298797]), 'split6_test_accuracy': array([0.71644554, 0.69916692, 0.67247763, 0.65319346, 0.63745757,\n       0.52391237, 0.66368405, 0.70225239, 0.70178957, 0.69654428]), 'split7_test_accuracy': array([0.70722668, 0.6931748 , 0.66337245, 0.64576899, 0.63434219,\n       0.52779494, 0.66460778, 0.70336628, 0.70892526, 0.70151328]), 'split8_test_accuracy': array([0.67083913, 0.6620306 , 0.64055015, 0.62046052, 0.60809767,\n       0.49034152, 0.62308762, 0.66728481, 0.6711482 , 0.66759388]), 'split9_test_accuracy': array([0.62146281, 0.60383485, 0.58017628, 0.56239369, 0.54615741,\n       0.45724447, 0.57893923, 0.6174424 , 0.61960724, 0.61929797]), 'mean_test_accuracy': array([0.67120269, 0.6546665 , 0.62883738, 0.6092652 , 0.59457835,\n       0.51220565, 0.62786648, 0.66158612, 0.66226421, 0.65693194]), 'std_test_accuracy': array([0.03460245, 0.03461613, 0.03449422, 0.03490776, 0.03548272,\n       0.0273096 , 0.03360736, 0.03513591, 0.03591678, 0.03481329]), 'rank_test_accuracy': array([ 1,  5,  6,  8,  9, 10,  7,  3,  2,  4], dtype=int32), 'split0_test_precision_macro': array([0.55135867, 0.54793601, 0.52939812, 0.48362812, 0.46859441,\n       0.45918785, 0.46235823, 0.51979933, 0.47910323, 0.48771751]), 'split1_test_precision_macro': array([0.64497542, 0.58772529, 0.59106607, 0.55887073, 0.55877769,\n       0.49352041, 0.54785346, 0.59316576, 0.56028141, 0.55561232]), 'split2_test_precision_macro': array([0.58765217, 0.57557101, 0.55352035, 0.54783097, 0.5241009 ,\n       0.48336792, 0.56010176, 0.5912444 , 0.59820046, 0.57914879]), 'split3_test_precision_macro': array([0.57214965, 0.58054472, 0.5375869 , 0.52154151, 0.51546539,\n       0.49829662, 0.55611735, 0.57082664, 0.56254059, 0.5274565 ]), 'split4_test_precision_macro': array([0.63466649, 0.57860201, 0.57949132, 0.57656611, 0.56778536,\n       0.544926  , 0.60652268, 0.60327127, 0.6140761 , 0.61768264]), 'split5_test_precision_macro': array([0.60119419, 0.59313533, 0.58133744, 0.55809686, 0.54413344,\n       0.52075052, 0.57499623, 0.61272149, 0.62547744, 0.60987613]), 'split6_test_precision_macro': array([0.68457177, 0.66049885, 0.62856332, 0.62585349, 0.58046835,\n       0.51634161, 0.63538528, 0.64099161, 0.64744284, 0.65281368]), 'split7_test_precision_macro': array([0.65809696, 0.65007296, 0.64122797, 0.62978514, 0.62522415,\n       0.50833202, 0.67929084, 0.69509201, 0.66299266, 0.65986947]), 'split8_test_precision_macro': array([0.67215018, 0.67304852, 0.64820012, 0.58036958, 0.5784147 ,\n       0.51077939, 0.63994247, 0.62825095, 0.61543386, 0.63512358]), 'split9_test_precision_macro': array([0.60741299, 0.55397519, 0.52933123, 0.52869138, 0.50329044,\n       0.43497829, 0.56940918, 0.57441393, 0.57353435, 0.57290149]), 'mean_test_precision_macro': array([0.62137265, 0.60006255, 0.58192978, 0.56107714, 0.54658383,\n       0.4970469 , 0.58310879, 0.6029229 , 0.59384188, 0.58974265]), 'std_test_precision_macro': array([0.04210273, 0.04235983, 0.04295863, 0.04281497, 0.04287154,\n       0.03003512, 0.05754772, 0.04434704, 0.05026298, 0.05292537]), 'rank_test_precision_macro': array([ 1,  3,  7,  8,  9, 10,  6,  2,  4,  5], dtype=int32), 'split0_test_recall_macro': array([0.39616495, 0.37180023, 0.34215451, 0.32202155, 0.30569961,\n       0.29069016, 0.35414206, 0.37788013, 0.37613291, 0.3704573 ]), 'split1_test_recall_macro': array([0.44589843, 0.41843095, 0.39044487, 0.36881715, 0.35899546,\n       0.33115154, 0.41317944, 0.43547381, 0.42594234, 0.41485004]), 'split2_test_recall_macro': array([0.45935429, 0.43047549, 0.39955513, 0.36944683, 0.35060722,\n       0.32872714, 0.41743424, 0.44325614, 0.44059482, 0.43004696]), 'split3_test_recall_macro': array([0.46521851, 0.43429496, 0.40348995, 0.3760788 , 0.36124872,\n       0.34511288, 0.42775518, 0.44559799, 0.44263713, 0.43071102]), 'split4_test_recall_macro': array([0.46112248, 0.43084303, 0.40138549, 0.38244955, 0.36540716,\n       0.34048958, 0.42622722, 0.44638083, 0.44102728, 0.43192993]), 'split5_test_recall_macro': array([0.46806072, 0.44080472, 0.41641081, 0.38994293, 0.37168013,\n       0.34333591, 0.43318862, 0.45333067, 0.45037425, 0.44042678]), 'split6_test_recall_macro': array([0.50281509, 0.46917109, 0.43760874, 0.41782166, 0.39531387,\n       0.33669938, 0.45733939, 0.48429534, 0.47396008, 0.4621243 ]), 'split7_test_recall_macro': array([0.51562864, 0.48773961, 0.45464398, 0.43490518, 0.42259206,\n       0.35026384, 0.47582215, 0.50055106, 0.5018168 , 0.49375865]), 'split8_test_recall_macro': array([0.47696872, 0.45475593, 0.42493539, 0.40155605, 0.39060763,\n       0.32032791, 0.42965514, 0.46176956, 0.46201296, 0.45746551]), 'split9_test_recall_macro': array([0.43712742, 0.40966985, 0.38374539, 0.3648002 , 0.35097677,\n       0.29595469, 0.40025847, 0.42833333, 0.42654199, 0.42182316]), 'mean_test_recall_macro': array([0.46280012, 0.43476216, 0.4054005 , 0.38274443, 0.36727229,\n       0.32827435, 0.42346714, 0.44764882, 0.44406324, 0.43531583]), 'std_test_recall_macro': array([0.03167122, 0.03053592, 0.02952342, 0.02963968, 0.02976012,\n       0.01934663, 0.03088819, 0.03129575, 0.03141704, 0.03086062]), 'rank_test_recall_macro': array([ 1,  5,  7,  8,  9, 10,  6,  2,  3,  4], dtype=int32), 'split0_test_f1_macro': array([0.41082687, 0.38296263, 0.34988898, 0.32685795, 0.31042881,\n       0.29888038, 0.35896743, 0.38611537, 0.38371642, 0.37830895]), 'split1_test_f1_macro': array([0.47157211, 0.43516367, 0.4038274 , 0.37828174, 0.36741799,\n       0.34433378, 0.42819824, 0.45343037, 0.44093365, 0.42828949]), 'split2_test_f1_macro': array([0.48446756, 0.45268259, 0.42041824, 0.38546388, 0.36456453,\n       0.34690802, 0.43796161, 0.46446198, 0.46333635, 0.4531683 ]), 'split3_test_f1_macro': array([0.48305168, 0.45159421, 0.41645109, 0.38661013, 0.36915521,\n       0.36081719, 0.4421909 , 0.45796355, 0.45431599, 0.44186972]), 'split4_test_f1_macro': array([0.48941081, 0.45453026, 0.42215257, 0.4011868 , 0.38103957,\n       0.35561648, 0.45026866, 0.47100669, 0.46712249, 0.45672034]), 'split5_test_f1_macro': array([0.48881031, 0.45577132, 0.4290735 , 0.39958679, 0.38037637,\n       0.35787691, 0.45032717, 0.47097094, 0.46734561, 0.45793627]), 'split6_test_f1_macro': array([0.52626001, 0.48950017, 0.45373466, 0.43236004, 0.40475214,\n       0.3548178 , 0.48185983, 0.50670006, 0.4935335 , 0.4798979 ]), 'split7_test_f1_macro': array([0.54590549, 0.51325431, 0.47660313, 0.45620008, 0.44088583,\n       0.3689727 , 0.50464692, 0.52700334, 0.52666978, 0.51878303]), 'split8_test_f1_macro': array([0.50845861, 0.48099561, 0.44365851, 0.41580726, 0.4036362 ,\n       0.33425518, 0.4512221 , 0.48470381, 0.48578276, 0.48239164]), 'split9_test_f1_macro': array([0.45976629, 0.42900715, 0.40027836, 0.37826355, 0.36311252,\n       0.30545982, 0.41687036, 0.44632285, 0.44590499, 0.44002042]), 'mean_test_f1_macro': array([0.48681173, 0.45450404, 0.42156732, 0.39601721, 0.37849204,\n       0.34279212, 0.44221044, 0.46682358, 0.46281834, 0.45368791]), 'std_test_f1_macro': array([0.03505848, 0.03396847, 0.03247847, 0.03315405, 0.03240693,\n       0.02227363, 0.03671341, 0.03573997, 0.03562427, 0.03526599]), 'rank_test_f1_macro': array([ 1,  4,  7,  8,  9, 10,  6,  2,  3,  5], dtype=int32)}\nBest params:\n{'count__analyzer': 'word', 'count__ngram_range': (1, 1)}\nBest score:\n0.48681172827967245\n"
    }
   ],
   "source": [
    "tokenize_test_pipeline(model='lr')"
   ]
  },
  {
   "cell_type": "markdown",
   "execution_count": null,
   "metadata": {},
   "outputs": [],
   "source": [
    "### SVM"
   ]
  },
  {
   "cell_type": "code",
   "execution_count": 7,
   "metadata": {},
   "outputs": [
    {
     "name": "stdout",
     "output_type": "stream",
     "text": "Linear SVM\n------------------\nScores: \n{'mean_fit_time': array([ 39.13557873,  90.95561879, 148.21184311, 209.62468457,\n       284.55015097,  30.32936647,  57.36534059,  89.63355989,\n       166.13039422, 240.52759602]), 'std_fit_time': array([ 1.25531657,  3.02542467,  3.67334365,  5.4513434 ,  7.9995442 ,\n        1.06682304,  3.51573656,  2.93676364,  3.5661605 , 57.58947559]), 'mean_score_time': array([10.10502214, 18.46141534, 27.71622579, 37.91307306, 52.32033958,\n        1.86744795,  5.18878911,  8.97869923, 14.20682335, 16.77347555]), 'std_score_time': array([0.61044843, 0.77308262, 1.25853845, 3.6616263 , 7.48556931,\n       0.16546649, 0.72565496, 1.12672797, 2.02688301, 6.8698538 ]), 'param_count__analyzer': masked_array(data=['word', 'word', 'word', 'word', 'word', 'char', 'char',\n                   'char', 'char', 'char'],\n             mask=[False, False, False, False, False, False, False, False,\n                   False, False],\n       fill_value='?',\n            dtype=object), 'param_count__ngram_range': masked_array(data=[(1, 1), (1, 2), (1, 3), (1, 4), (1, 5), (1, 1), (1, 2),\n                   (1, 3), (1, 4), (1, 5)],\n             mask=[False, False, False, False, False, False, False, False,\n                   False, False],\n       fill_value='?',\n            dtype=object), 'params': [{'count__analyzer': 'word', 'count__ngram_range': (1, 1)}, {'count__analyzer': 'word', 'count__ngram_range': (1, 2)}, {'count__analyzer': 'word', 'count__ngram_range': (1, 3)}, {'count__analyzer': 'word', 'count__ngram_range': (1, 4)}, {'count__analyzer': 'word', 'count__ngram_range': (1, 5)}, {'count__analyzer': 'char', 'count__ngram_range': (1, 1)}, {'count__analyzer': 'char', 'count__ngram_range': (1, 2)}, {'count__analyzer': 'char', 'count__ngram_range': (1, 3)}, {'count__analyzer': 'char', 'count__ngram_range': (1, 4)}, {'count__analyzer': 'char', 'count__ngram_range': (1, 5)}], 'split0_test_accuracy': array([0.66169919, 0.68028883, 0.66262099, 0.64833308, 0.63757874,\n       0.49992318, 0.6291289 , 0.66907359, 0.66984176, 0.66584729]), 'split1_test_accuracy': array([0.7230249 , 0.74946204, 0.73701199, 0.72241008, 0.71472487,\n       0.56071319, 0.70565632, 0.74700277, 0.75268982, 0.75161389]), 'split2_test_accuracy': array([0.73146724, 0.75223008, 0.73838819, 0.72500769, 0.71562596,\n       0.54860043, 0.69963088, 0.74653953, 0.75438327, 0.75407567]), 'split3_test_accuracy': array([0.73803294, 0.76219794, 0.74803756, 0.73618593, 0.72556565,\n       0.55517931, 0.70293982, 0.74772972, 0.75388641, 0.75434816]), 'split4_test_accuracy': array([0.74075786, 0.75462107, 0.74260628, 0.73228589, 0.72258164,\n       0.55760937, 0.70055453, 0.74984596, 0.75739372, 0.7564695 ]), 'split5_test_accuracy': array([0.73358002, 0.75840271, 0.74745606, 0.73820537, 0.73203824,\n       0.55164971, 0.70798643, 0.75485661, 0.76287388, 0.75824854]), 'split6_test_accuracy': array([0.75732799, 0.77938908, 0.76781857, 0.75979636, 0.75208269,\n       0.54443073, 0.71721691, 0.76920703, 0.77661216, 0.7775378 ]), 'split7_test_accuracy': array([0.7557134 , 0.77825818, 0.76744904, 0.75772082, 0.74891909,\n       0.54756022, 0.72189623, 0.77316245, 0.78273626, 0.78134651]), 'split8_test_accuracy': array([0.72739917, 0.75737908, 0.74563437, 0.73574409, 0.7275537 ,\n       0.50904033, 0.68830165, 0.74285273, 0.75475197, 0.75815175]), 'split9_test_accuracy': array([0.67527447, 0.69862378, 0.68764497, 0.67573836, 0.66785217,\n       0.46683161, 0.63445183, 0.68810886, 0.69831452, 0.69785063]), 'mean_test_accuracy': array([0.72441746, 0.74707188, 0.73445013, 0.72312292, 0.71443102,\n       0.53418198, 0.69077487, 0.7388269 , 0.74633214, 0.74553076]), 'std_test_accuracy': array([0.03001583, 0.03062669, 0.03182023, 0.03321451, 0.03371044,\n       0.02970136, 0.03079848, 0.03184872, 0.03321859, 0.03401021]), 'rank_test_accuracy': array([ 6,  1,  5,  7,  8, 10,  9,  4,  2,  3], dtype=int32), 'split0_test_precision_macro': array([0.59842525, 0.65094806, 0.65200102, 0.64568456, 0.63764272,\n       0.49031334, 0.56232721, 0.60261117, 0.61143402, 0.61194222]), 'split1_test_precision_macro': array([0.64742992, 0.71196342, 0.71032573, 0.70506868, 0.70055174,\n       0.52426712, 0.64314734, 0.70774578, 0.69142459, 0.69655253]), 'split2_test_precision_macro': array([0.65542355, 0.69397191, 0.69572389, 0.68210482, 0.66636891,\n       0.52012621, 0.67091189, 0.69854201, 0.72514771, 0.70645692]), 'split3_test_precision_macro': array([0.64942592, 0.71434755, 0.69867883, 0.69454742, 0.69677267,\n       0.51889459, 0.63264496, 0.69329508, 0.73193181, 0.71630374]), 'split4_test_precision_macro': array([0.69481161, 0.718792  , 0.69643301, 0.69201157, 0.67979208,\n       0.53244533, 0.63488833, 0.70273786, 0.73196101, 0.72355415]), 'split5_test_precision_macro': array([0.69014146, 0.72264764, 0.70919322, 0.70358015, 0.69704946,\n       0.55415449, 0.6724673 , 0.72465095, 0.74500456, 0.72288578]), 'split6_test_precision_macro': array([0.70052951, 0.74359383, 0.74511664, 0.74967867, 0.75371777,\n       0.5099054 , 0.67757275, 0.74349805, 0.75422816, 0.75531859]), 'split7_test_precision_macro': array([0.70636609, 0.75548928, 0.76996724, 0.75398798, 0.75002032,\n       0.53392167, 0.70794202, 0.76138805, 0.76578937, 0.76835847]), 'split8_test_precision_macro': array([0.70718872, 0.76342478, 0.76633314, 0.76435071, 0.75849379,\n       0.55371014, 0.70361042, 0.74145545, 0.75602054, 0.79106251]), 'split9_test_precision_macro': array([0.64434813, 0.6555249 , 0.64213178, 0.64213985, 0.63546413,\n       0.45677193, 0.61745115, 0.63511245, 0.65558767, 0.65684441]), 'mean_test_precision_macro': array([0.66936358, 0.7130408 , 0.70855935, 0.70328093, 0.69755011,\n       0.51945225, 0.65224948, 0.70106711, 0.71681278, 0.71487339]), 'std_test_precision_macro': array([0.03404369, 0.03594366, 0.04055523, 0.04018124, 0.04283055,\n       0.02763035, 0.04148725, 0.04667566, 0.04708439, 0.0498106 ]), 'rank_test_precision_macro': array([ 8,  3,  4,  5,  7, 10,  9,  6,  1,  2], dtype=int32), 'split0_test_recall_macro': array([0.52053315, 0.51953283, 0.49494349, 0.47412397, 0.46091652,\n       0.35963778, 0.4801041 , 0.52372818, 0.51916981, 0.51080543]), 'split1_test_recall_macro': array([0.56944976, 0.58107308, 0.56115481, 0.54213389, 0.53426889,\n       0.39690867, 0.55063802, 0.5898064 , 0.59097811, 0.58588027]), 'split2_test_recall_macro': array([0.57962061, 0.58356005, 0.56268522, 0.53889276, 0.52551706,\n       0.40012196, 0.54686858, 0.58815144, 0.59043363, 0.5855603 ]), 'split3_test_recall_macro': array([0.59334432, 0.60776549, 0.57966905, 0.5603129 , 0.54367397,\n       0.40461158, 0.54970171, 0.59640963, 0.60211612, 0.60029056]), 'split4_test_recall_macro': array([0.58310069, 0.58113008, 0.55742315, 0.53602865, 0.52232039,\n       0.38950976, 0.53388602, 0.58555214, 0.59091015, 0.58300976]), 'split5_test_recall_macro': array([0.59377201, 0.6110765 , 0.58656308, 0.56804575, 0.5573209 ,\n       0.40180638, 0.56715137, 0.61291231, 0.61584213, 0.60709736]), 'split6_test_recall_macro': array([0.60994974, 0.61930916, 0.59728744, 0.58609011, 0.57488077,\n       0.38502768, 0.561156  , 0.60712101, 0.61473818, 0.60747667]), 'split7_test_recall_macro': array([0.62670334, 0.63522955, 0.61617786, 0.59829298, 0.58599235,\n       0.41182185, 0.58750173, 0.63385089, 0.63968659, 0.63461527]), 'split8_test_recall_macro': array([0.61324285, 0.62084946, 0.59938571, 0.5823924 , 0.56986446,\n       0.37787726, 0.56537545, 0.61254047, 0.6249525 , 0.62690713]), 'split9_test_recall_macro': array([0.55501074, 0.55135653, 0.53408914, 0.51408165, 0.50197248,\n       0.32023645, 0.50512971, 0.54798047, 0.55801606, 0.55314972]), 'mean_test_recall_macro': array([0.5844395 , 0.59105608, 0.56890262, 0.55000125, 0.53763439,\n       0.38477467, 0.54472976, 0.58978133, 0.59465185, 0.58944444]), 'std_test_recall_macro': array([0.0293885 , 0.03356683, 0.03363857, 0.03542453, 0.03569893,\n       0.02579276, 0.02992877, 0.0307776 , 0.0330843 , 0.03431557]), 'rank_test_recall_macro': array([ 5,  2,  6,  7,  9, 10,  8,  3,  1,  4], dtype=int32), 'split0_test_f1_macro': array([0.53775849, 0.54118526, 0.51758925, 0.49639984, 0.48223318,\n       0.38161714, 0.49615079, 0.53901951, 0.53454549, 0.52894073]), 'split1_test_f1_macro': array([0.59181297, 0.6098447 , 0.59099674, 0.57352055, 0.56588775,\n       0.42358437, 0.5731631 , 0.61748637, 0.61691962, 0.61375499]), 'split2_test_f1_macro': array([0.60015697, 0.60947773, 0.58971238, 0.56543938, 0.55204868,\n       0.42425542, 0.57217966, 0.61554885, 0.6191626 , 0.613569  ]), 'split3_test_f1_macro': array([0.61142003, 0.6340163 , 0.60961938, 0.59269734, 0.57541571,\n       0.42405493, 0.57131592, 0.62054426, 0.63071576, 0.62864331]), 'split4_test_f1_macro': array([0.61569481, 0.61733914, 0.5939305 , 0.5705934 , 0.55560319,\n       0.41435151, 0.56277561, 0.61827609, 0.62572006, 0.61969154]), 'split5_test_f1_macro': array([0.62134818, 0.64313383, 0.62047196, 0.60217866, 0.59047902,\n       0.42201632, 0.59450614, 0.64502261, 0.64957585, 0.64018901]), 'split6_test_f1_macro': array([0.63489563, 0.64773315, 0.62752231, 0.61773222, 0.6070117 ,\n       0.40573453, 0.58679753, 0.63779924, 0.64779314, 0.63903431]), 'split7_test_f1_macro': array([0.65213877, 0.67046258, 0.65486627, 0.63663563, 0.62443512,\n       0.43256872, 0.61828949, 0.66693963, 0.67483087, 0.67094474]), 'split8_test_f1_macro': array([0.64349642, 0.66061588, 0.64102294, 0.62433927, 0.61162347,\n       0.40973322, 0.59669175, 0.64462896, 0.65959784, 0.66708548]), 'split9_test_f1_macro': array([0.57938847, 0.5800271 , 0.56304292, 0.54308196, 0.5309391 ,\n       0.34185017, 0.52874148, 0.57073018, 0.5848032 , 0.5807717 ]), 'mean_test_f1_macro': array([0.60877191, 0.62134427, 0.60083482, 0.58221642, 0.5695218 ,\n       0.40799473, 0.57003344, 0.61757036, 0.62432645, 0.62021959]), 'std_test_f1_macro': array([0.03202512, 0.0370317 , 0.03787085, 0.03987509, 0.04036666,\n       0.02583213, 0.03340043, 0.0356571 , 0.03839373, 0.03946746]), 'rank_test_f1_macro': array([ 5,  2,  6,  7,  9, 10,  8,  4,  1,  3], dtype=int32)}\nBest params:\n{'count__analyzer': 'char', 'count__ngram_range': (1, 4)}\nBest score:\n0.624326447156704\n"
    }
   ],
   "source": [
    "tokenize_test_pipeline(model='svm')"
   ]
  },
  {
   "cell_type": "code",
   "execution_count": null,
   "metadata": {},
   "outputs": [],
   "source": []
  }
 ]
}