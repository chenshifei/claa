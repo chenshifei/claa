{
 "nbformat": 4,
 "nbformat_minor": 2,
 "metadata": {
  "language_info": {
   "name": "python",
   "codemirror_mode": {
    "name": "ipython",
    "version": 3
   },
   "version": "3.7.5"
  },
  "orig_nbformat": 2,
  "file_extension": ".py",
  "mimetype": "text/x-python",
  "name": "python",
  "npconvert_exporter": "python",
  "pygments_lexer": "ipython3",
  "version": 3
 },
 "cells": [
  {
   "cell_type": "code",
   "execution_count": 121,
   "metadata": {},
   "outputs": [
    {
     "data": {
      "text/plain": "(69519, 3)"
     },
     "execution_count": 121,
     "metadata": {},
     "output_type": "execute_result"
    }
   ],
   "source": [
    "import pandas as pd\n",
    "\n",
    "df = pd.read_csv('../data/tweets.csv')\n",
    "df.shape"
   ]
  },
  {
   "cell_type": "markdown",
   "execution_count": null,
   "metadata": {},
   "outputs": [],
   "source": [
    "## Vectorize the tweets"
   ]
  },
  {
   "cell_type": "code",
   "execution_count": 126,
   "metadata": {},
   "outputs": [],
   "source": [
    "from polyglot.text import Text\n",
    "from sklearn.feature_extraction.text import CountVectorizer, TfidfTransformer\n",
    "from sklearn.model_selection import KFold\n",
    "\n",
    "X = df.monolingual_text\n",
    "y = df.screen_name\n",
    "\n",
    "def ploy_tokenizer(raw_text):\n",
    "    return Text(raw_text).words\n",
    "\n",
    "count_vectorizer = CountVectorizer(tokenizer=ploy_tokenizer)\n",
    "tf_transformer = TfidfTransformer()\n",
    "\n",
    "kf = KFold(n_splits=10, shuffle=True, random_state=1)"
   ]
  },
  {
   "cell_type": "markdown",
   "execution_count": null,
   "metadata": {},
   "outputs": [],
   "source": [
    "## Classification"
   ]
  },
  {
   "cell_type": "code",
   "execution_count": 127,
   "metadata": {},
   "outputs": [],
   "source": [
    "import logging\n",
    "\n",
    "from sklearn.model_selection import GridSearchCV\n",
    "from sklearn.naive_bayes import MultinomialNB\n",
    "from sklearn.linear_model import LogisticRegression\n",
    "from sklearn.svm import LinearSVC\n",
    "from sklearn.pipeline import Pipeline\n",
    "from sklearn import metrics\n",
    "\n",
    "logging.getLogger().setLevel(logging.ERROR)\n",
    "\n",
    "nb = MultinomialNB()\n",
    "lr = LogisticRegression(solver='liblinear', multi_class='auto', class_weight='balanced', verbose=1)\n",
    "svm = LinearSVC(class_weight='balanced', verbose=1)\n",
    "\n",
    "scoring = ['accuracy', 'precision_macro', 'recall_macro', 'f1_macro']\n",
    "\n",
    "def tokenize_test_pipeline(model, dataset_X=X, dataset_y=y):\n",
    "    pipe = Pipeline([\n",
    "        ('count', count_vectorizer),\n",
    "        ('tfidf', tf_transformer),\n",
    "        ('clf', globals()[model]),\n",
    "    ])\n",
    "\n",
    "    params = {\n",
    "        'count__ngram_range': [(1, 1), (1, 2), (1, 3), (1, 4), (1, 5)],\n",
    "        'count__analyzer': ['word', 'char'],\n",
    "    }\n",
    "\n",
    "    algorithm = ''\n",
    "    if model.startswith('lr'):\n",
    "        algorithm = 'Logistic Regression'\n",
    "    elif model.startswith('nb'):\n",
    "        algorithm = 'Multinomial Naive Bayes'\n",
    "    elif model.startswith('svm'):\n",
    "        algorithm = 'Linear SVM'\n",
    "\n",
    "    gd_clf = GridSearchCV(pipe, params, cv=10, scoring=scoring, n_jobs=-1, refit='accuracy', verbose=1)\n",
    "    gd_clf.fit(dataset_X, dataset_y)\n",
    "\n",
    "    print(algorithm)\n",
    "    print('------------------')\n",
    "    print('Scores: ')\n",
    "    print(gd_clf.cv_results_)\n",
    "    print('Best params:')\n",
    "    print(gd_clf.best_params_)\n",
    "    print('Best score:')\n",
    "    print(gd_clf.best_score_)"
   ]
  },
  {
   "cell_type": "markdown",
   "execution_count": null,
   "metadata": {},
   "outputs": [],
   "source": [
    "### Logistic Regression"
   ]
  },
  {
   "cell_type": "code",
   "execution_count": 23,
   "metadata": {},
   "outputs": [
    {
     "name": "stdout",
     "output_type": "stream",
     "text": "Fitting 10 folds for each of 10 candidates, totalling 100 fits\n[Parallel(n_jobs=-1)]: Using backend LokyBackend with 8 concurrent workers.\n[Parallel(n_jobs=-1)]: Done  34 tasks      | elapsed: 29.0min\n[Parallel(n_jobs=-1)]: Done 100 out of 100 | elapsed: 122.4min finished\n[LibLinear]Logistic Regression\n------------------\nScores: \n{'mean_fit_time': array([  90.15525188,  232.93297663,  451.50999672,  719.66827676,\n        980.32116294,   96.98633301,  255.17148619,  468.58294835,\n        875.15281441, 1195.69569204]), 'std_fit_time': array([  5.9519921 ,   9.79278282,  20.80733611,  23.56356231,\n        54.25495594,   6.44482546,  18.45416698,  12.39980251,\n        35.0238599 , 271.53529192]), 'mean_score_time': array([17.1941143 , 26.21392817, 40.84982026, 55.71520891, 67.03659639,\n        2.46889   ,  5.79440479,  9.99990385, 16.24484694, 16.7575417 ]), 'std_score_time': array([0.36333204, 1.88849302, 1.79602701, 3.17261649, 9.08721112,\n       0.20355378, 0.23245006, 0.45316449, 0.84856399, 5.93607764]), 'param_count__analyzer': masked_array(data=['word', 'word', 'word', 'word', 'word', 'char', 'char',\n                   'char', 'char', 'char'],\n             mask=[False, False, False, False, False, False, False, False,\n                   False, False],\n       fill_value='?',\n            dtype=object), 'param_count__ngram_range': masked_array(data=[(1, 1), (1, 2), (1, 3), (1, 4), (1, 5), (1, 1), (1, 2),\n                   (1, 3), (1, 4), (1, 5)],\n             mask=[False, False, False, False, False, False, False, False,\n                   False, False],\n       fill_value='?',\n            dtype=object), 'params': [{'count__analyzer': 'word', 'count__ngram_range': (1, 1)}, {'count__analyzer': 'word', 'count__ngram_range': (1, 2)}, {'count__analyzer': 'word', 'count__ngram_range': (1, 3)}, {'count__analyzer': 'word', 'count__ngram_range': (1, 4)}, {'count__analyzer': 'word', 'count__ngram_range': (1, 5)}, {'count__analyzer': 'char', 'count__ngram_range': (1, 1)}, {'count__analyzer': 'char', 'count__ngram_range': (1, 2)}, {'count__analyzer': 'char', 'count__ngram_range': (1, 3)}, {'count__analyzer': 'char', 'count__ngram_range': (1, 4)}, {'count__analyzer': 'char', 'count__ngram_range': (1, 5)}], 'split0_test_accuracy': array([0.52159204, 0.51522388, 0.49442786, 0.47840796, 0.4678607 ,\n       0.37761194, 0.48059701, 0.51661692, 0.51940299, 0.51691542]), 'split1_test_accuracy': array([0.56327791, 0.55969332, 0.54366225, 0.53061834, 0.52135816,\n       0.41511501, 0.52026287, 0.55600916, 0.55979289, 0.56029075]), 'split2_test_accuracy': array([0.57739044, 0.56842629, 0.55049801, 0.53486056, 0.52440239,\n       0.40418327, 0.52350598, 0.56324701, 0.56752988, 0.56593625]), 'split3_test_accuracy': array([0.59123069, 0.58206278, 0.56283009, 0.54887892, 0.53861485,\n       0.43926258, 0.55336323, 0.5834579 , 0.58824116, 0.58555057]), 'split4_test_accuracy': array([0.57541621, 0.57093012, 0.55547802, 0.54112252, 0.5314525 ,\n       0.4288705 , 0.53155219, 0.57102981, 0.57581497, 0.57152826]), 'split5_test_accuracy': array([0.59860349, 0.59002494, 0.57147132, 0.55870324, 0.54972569,\n       0.44029925, 0.55391521, 0.58553616, 0.59221945, 0.58872818]), 'split6_test_accuracy': array([0.60421242, 0.59263326, 0.57805949, 0.56448393, 0.55480136,\n       0.42802955, 0.54392094, 0.59113596, 0.59892194, 0.59962068]), 'split7_test_accuracy': array([0.59029165, 0.58799441, 0.57411107, 0.56142629, 0.553336  ,\n       0.42818618, 0.55163803, 0.59188973, 0.59838194, 0.59478626]), 'split8_test_accuracy': array([0.56860198, 0.56850205, 0.5527131 , 0.5394224 , 0.53082842,\n       0.39232537, 0.51943639, 0.56780254, 0.57539722, 0.57149995]), 'split9_test_accuracy': array([0.51864814, 0.51974803, 0.5030497 , 0.49245075, 0.48225177,\n       0.35326467, 0.47235276, 0.51534847, 0.52054795, 0.52274773]), 'mean_test_accuracy': array([0.57092418, 0.56551834, 0.54862261, 0.53502823, 0.52545331,\n       0.4107239 , 0.52505436, 0.56420179, 0.5696176 , 0.56775249]), 'std_test_accuracy': array([0.0281991 , 0.02611393, 0.02710386, 0.02722671, 0.02769226,\n       0.02723095, 0.02747191, 0.02663586, 0.02764827, 0.02683235]), 'rank_test_accuracy': array([ 1,  4,  6,  7,  8, 10,  9,  5,  2,  3], dtype=int32), 'split0_test_precision_macro': array([0.52501785, 0.49723771, 0.50908708, 0.50062014, 0.49870287,\n       0.44255694, 0.43300929, 0.47374685, 0.48952189, 0.47649146]), 'split1_test_precision_macro': array([0.57523922, 0.57431148, 0.55541446, 0.52972101, 0.51167452,\n       0.46789995, 0.46482545, 0.5416204 , 0.50407967, 0.52274883]), 'split2_test_precision_macro': array([0.54477619, 0.53846845, 0.52472585, 0.5212008 , 0.51685743,\n       0.43448769, 0.47553241, 0.50841254, 0.51957092, 0.54606147]), 'split3_test_precision_macro': array([0.61084764, 0.58693686, 0.52358565, 0.51473276, 0.51579875,\n       0.48308504, 0.51853544, 0.529849  , 0.54807965, 0.55735581]), 'split4_test_precision_macro': array([0.55001268, 0.55327787, 0.53965771, 0.54578406, 0.53978437,\n       0.42908703, 0.51833927, 0.54079708, 0.57862241, 0.57966049]), 'split5_test_precision_macro': array([0.6319389 , 0.59026343, 0.59166292, 0.58899534, 0.57558867,\n       0.51959905, 0.56127089, 0.58104119, 0.61927391, 0.61808675]), 'split6_test_precision_macro': array([0.62595145, 0.61068712, 0.60121087, 0.58906811, 0.58523975,\n       0.45911413, 0.56733063, 0.60459876, 0.59760219, 0.60733349]), 'split7_test_precision_macro': array([0.63716475, 0.63171506, 0.62863926, 0.62679484, 0.60972812,\n       0.48356067, 0.56749348, 0.61018375, 0.62325816, 0.6213882 ]), 'split8_test_precision_macro': array([0.66005984, 0.65436574, 0.64516213, 0.6226565 , 0.63227111,\n       0.46465243, 0.58902357, 0.62364857, 0.63701766, 0.63792172]), 'split9_test_precision_macro': array([0.58370476, 0.57915996, 0.57215227, 0.53814685, 0.5388393 ,\n       0.38350674, 0.51002323, 0.53411181, 0.55688966, 0.55049224]), 'mean_test_precision_macro': array([0.59442516, 0.5815914 , 0.56907511, 0.55772419, 0.55239724,\n       0.45676354, 0.52048034, 0.55475009, 0.56733308, 0.57170098]), 'std_test_precision_macro': array([0.04306725, 0.04312778, 0.04424135, 0.04323917, 0.04331781,\n       0.03516933, 0.04864736, 0.04595716, 0.04954913, 0.04808862]), 'rank_test_precision_macro': array([ 1,  2,  4,  6,  8, 10,  9,  7,  5,  3], dtype=int32), 'split0_test_recall_macro': array([0.31578484, 0.30270672, 0.28479115, 0.27041758, 0.26153992,\n       0.21352503, 0.28084686, 0.3079682 , 0.30890637, 0.30505311]), 'split1_test_recall_macro': array([0.34620605, 0.33023796, 0.31277691, 0.30046568, 0.29176344,\n       0.24153023, 0.30977522, 0.33380367, 0.331843  , 0.329849  ]), 'split2_test_recall_macro': array([0.37030338, 0.34888544, 0.3302586 , 0.31592012, 0.3052092 ,\n       0.24206329, 0.3234806 , 0.3511226 , 0.35183971, 0.34805469]), 'split3_test_recall_macro': array([0.38037918, 0.36248182, 0.3372704 , 0.32415855, 0.31390539,\n       0.25943302, 0.34425279, 0.36329871, 0.36481856, 0.36057452]), 'split4_test_recall_macro': array([0.36539212, 0.34950049, 0.33316808, 0.31860659, 0.31003741,\n       0.25152874, 0.3287124 , 0.35324169, 0.35589486, 0.35091875]), 'split5_test_recall_macro': array([0.38707049, 0.36231771, 0.34291047, 0.33045116, 0.32169407,\n       0.25720905, 0.34032822, 0.36150399, 0.36513702, 0.35930709]), 'split6_test_recall_macro': array([0.40464324, 0.38180571, 0.36628665, 0.3532297 , 0.34320589,\n       0.25740733, 0.34795946, 0.38397802, 0.38471574, 0.38387353]), 'split7_test_recall_macro': array([0.41803048, 0.4016611 , 0.38663167, 0.37567058, 0.36775072,\n       0.26813571, 0.37686038, 0.40640711, 0.40911034, 0.40421264]), 'split8_test_recall_macro': array([0.39319124, 0.38080716, 0.36282564, 0.34671754, 0.33930699,\n       0.24230338, 0.33799575, 0.38326447, 0.38538976, 0.38057949]), 'split9_test_recall_macro': array([0.36078093, 0.34851215, 0.3296742 , 0.31636469, 0.30691741,\n       0.20276555, 0.31216818, 0.34538077, 0.34840791, 0.34761826]), 'mean_test_recall_macro': array([0.37415011, 0.35686241, 0.33862924, 0.32516999, 0.3161023 ,\n       0.24358995, 0.33021794, 0.3589696 , 0.3605776 , 0.35697495]), 'std_test_recall_macro': array([0.02808214, 0.02663963, 0.02724825, 0.02765521, 0.02790801,\n       0.01966943, 0.02466022, 0.02647019, 0.02708681, 0.02677447]), 'rank_test_recall_macro': array([ 1,  5,  6,  8,  9, 10,  7,  3,  2,  4], dtype=int32), 'split0_test_f1_macro': array([0.33290662, 0.31843632, 0.29990256, 0.28414785, 0.2743864 ,\n       0.2262636 , 0.29209497, 0.32246747, 0.32421347, 0.31983821]), 'split1_test_f1_macro': array([0.36958543, 0.34894043, 0.32824284, 0.31480429, 0.30559325,\n       0.25735916, 0.32420146, 0.35296053, 0.34923337, 0.34650524]), 'split2_test_f1_macro': array([0.39885306, 0.37649384, 0.35549212, 0.3398623 , 0.32729809,\n       0.25898906, 0.34590742, 0.37780533, 0.37926243, 0.37556145]), 'split3_test_f1_macro': array([0.40762008, 0.38841394, 0.3578291 , 0.34352104, 0.33214821,\n       0.27423636, 0.36532548, 0.38625283, 0.3887872 , 0.38392796]), 'split4_test_f1_macro': array([0.39221297, 0.37571681, 0.35723272, 0.34051822, 0.33107007,\n       0.26638624, 0.34979607, 0.37665446, 0.38109644, 0.37622912]), 'split5_test_f1_macro': array([0.41889517, 0.38915378, 0.36728392, 0.35333047, 0.34321659,\n       0.27222773, 0.36195523, 0.38645491, 0.39143425, 0.38423212]), 'split6_test_f1_macro': array([0.43850059, 0.41448123, 0.39648749, 0.38193532, 0.37104073,\n       0.27519048, 0.37160948, 0.4137342 , 0.41358218, 0.41428882]), 'split7_test_f1_macro': array([0.45312533, 0.43362963, 0.41696318, 0.40589538, 0.39700093,\n       0.28664608, 0.4056783 , 0.43839395, 0.4404667 , 0.43484356]), 'split8_test_f1_macro': array([0.43078961, 0.41648456, 0.39559481, 0.37559189, 0.36768837,\n       0.25677835, 0.3624657 , 0.41666573, 0.41919287, 0.4142042 ]), 'split9_test_f1_macro': array([0.38974292, 0.37728871, 0.3561021 , 0.34026484, 0.32938705,\n       0.21239959, 0.3302609 , 0.36928511, 0.37531183, 0.3734399 ]), 'mean_test_f1_macro': array([0.40318808, 0.38386733, 0.36307558, 0.34795019, 0.33784548,\n       0.25864805, 0.35090498, 0.38403392, 0.38622263, 0.38227119]), 'std_test_f1_macro': array([0.03341372, 0.03193288, 0.03236023, 0.03267826, 0.03294377,\n       0.02175722, 0.02918949, 0.03159542, 0.03197372, 0.03186921]), 'rank_test_f1_macro': array([ 1,  4,  6,  8,  9, 10,  7,  3,  2,  5], dtype=int32)}\nBest params:\n{'count__analyzer': 'word', 'count__ngram_range': (1, 1)}\nBest score:\n0.4031880763536811\n"
    }
   ],
   "source": [
    "tokenize_test_pipeline(model='lr')"
   ]
  },
  {
   "cell_type": "markdown",
   "execution_count": null,
   "metadata": {},
   "outputs": [],
   "source": [
    "### SVM"
   ]
  },
  {
   "cell_type": "code",
   "execution_count": 128,
   "metadata": {},
   "outputs": [
    {
     "name": "stdout",
     "output_type": "stream",
     "text": "Fitting 10 folds for each of 10 candidates, totalling 100 fits\n[Parallel(n_jobs=-1)]: Using backend LokyBackend with 8 concurrent workers.\n[Parallel(n_jobs=-1)]: Done  34 tasks      | elapsed: 16.5min\n[Parallel(n_jobs=-1)]: Done 100 out of 100 | elapsed: 54.6min finished\n[LibLinear]Linear SVM\n------------------\nScores: \n{'mean_fit_time': array([ 58.71042354, 140.47947326, 238.94598553, 347.43826673,\n       474.99477327, 106.56099887, 103.59562347, 148.85106387,\n       273.57449019, 415.7658452 ]), 'std_fit_time': array([ 3.14350209,  4.91390437,  5.22551652, 10.00073211, 17.8378984 ,\n        5.10242396,  3.92357788,  2.77836701,  3.90592974, 69.02634004]), 'mean_score_time': array([11.91829133, 22.1799896 , 32.97235961, 44.99313819, 59.34663827,\n        2.2784024 ,  5.8568759 ,  9.63819273, 15.62063251, 17.16798544]), 'std_score_time': array([0.93631485, 1.09209493, 1.7998025 , 1.37603647, 2.2468502 ,\n       0.23829812, 0.50866111, 1.10216584, 1.13305516, 5.76355094]), 'param_count__analyzer': masked_array(data=['word', 'word', 'word', 'word', 'word', 'char', 'char',\n                   'char', 'char', 'char'],\n             mask=[False, False, False, False, False, False, False, False,\n                   False, False],\n       fill_value='?',\n            dtype=object), 'param_count__ngram_range': masked_array(data=[(1, 1), (1, 2), (1, 3), (1, 4), (1, 5), (1, 1), (1, 2),\n                   (1, 3), (1, 4), (1, 5)],\n             mask=[False, False, False, False, False, False, False, False,\n                   False, False],\n       fill_value='?',\n            dtype=object), 'params': [{'count__analyzer': 'word', 'count__ngram_range': (1, 1)}, {'count__analyzer': 'word', 'count__ngram_range': (1, 2)}, {'count__analyzer': 'word', 'count__ngram_range': (1, 3)}, {'count__analyzer': 'word', 'count__ngram_range': (1, 4)}, {'count__analyzer': 'word', 'count__ngram_range': (1, 5)}, {'count__analyzer': 'char', 'count__ngram_range': (1, 1)}, {'count__analyzer': 'char', 'count__ngram_range': (1, 2)}, {'count__analyzer': 'char', 'count__ngram_range': (1, 3)}, {'count__analyzer': 'char', 'count__ngram_range': (1, 4)}, {'count__analyzer': 'char', 'count__ngram_range': (1, 5)}], 'split0_test_accuracy': array([0.61180723, 0.63915663, 0.62759036, 0.61771084, 0.60722892,\n       0.37457831, 0.55879518, 0.62385542, 0.63373494, 0.6360241 ]), 'split1_test_accuracy': array([0.68162084, 0.71478534, 0.70525808, 0.69645441, 0.68704776,\n       0.42414375, 0.62952243, 0.70320791, 0.71635311, 0.71502653]), 'split2_test_accuracy': array([0.6914534 , 0.72585707, 0.71523419, 0.70569773, 0.69797199,\n       0.41972477, 0.63169966, 0.71294061, 0.72658136, 0.72984066]), 'split3_test_accuracy': array([0.699855  , 0.73513775, 0.7237796 , 0.71435476, 0.70662156,\n       0.44127598, 0.64608507, 0.71967134, 0.73586274, 0.73924601]), 'split4_test_accuracy': array([0.67742716, 0.70753234, 0.69967356, 0.69108935, 0.68335147,\n       0.42800145, 0.62350381, 0.69677185, 0.71369846, 0.71647926]), 'split5_test_accuracy': array([0.69880247, 0.73351881, 0.72771259, 0.72130156, 0.71380186,\n       0.44913512, 0.65005443, 0.71839845, 0.73509133, 0.73702673]), 'split6_test_accuracy': array([0.70628101, 0.74077212, 0.73096938, 0.72503933, 0.71995643,\n       0.45165194, 0.65666223, 0.7327847 , 0.7480334 , 0.75263222]), 'split7_test_accuracy': array([0.70733479, 0.74352457, 0.73953038, 0.73190511, 0.72452191,\n       0.44311305, 0.66085694, 0.73674655, 0.75187606, 0.75284435]), 'split8_test_accuracy': array([0.69350932, 0.72729474, 0.72039235, 0.71264229, 0.7054977 ,\n       0.40627271, 0.63150884, 0.71603294, 0.73589247, 0.7420683 ]), 'split9_test_accuracy': array([0.62684759, 0.65543979, 0.64817058, 0.64296099, 0.63775139,\n       0.360189  , 0.57123819, 0.64550521, 0.66307245, 0.66900897]), 'mean_test_accuracy': array([0.67947587, 0.71228257, 0.70380891, 0.69589131, 0.68834842,\n       0.41980248, 0.62597459, 0.70056934, 0.71599357, 0.71899138]), 'std_test_accuracy': array([0.03160413, 0.03433061, 0.03510368, 0.03529533, 0.03585461,\n       0.02956946, 0.03277079, 0.03517016, 0.03628593, 0.03616738]), 'rank_test_accuracy': array([ 8,  3,  4,  6,  7, 10,  9,  5,  2,  1], dtype=int32), 'split0_test_precision_macro': array([0.47257838, 0.51909842, 0.50959831, 0.51220244, 0.50432785,\n       0.30865022, 0.41570738, 0.47906939, 0.49532818, 0.50062856]), 'split1_test_precision_macro': array([0.5208567 , 0.58556974, 0.59736185, 0.59328949, 0.58789531,\n       0.33737617, 0.47516822, 0.55411786, 0.57325065, 0.57799808]), 'split2_test_precision_macro': array([0.54636738, 0.61071407, 0.61783549, 0.60986531, 0.60439736,\n       0.35127855, 0.4848611 , 0.56591281, 0.59235496, 0.60113755]), 'split3_test_precision_macro': array([0.55793682, 0.62324116, 0.62133652, 0.61830119, 0.61573478,\n       0.35594418, 0.49035622, 0.57766075, 0.61806753, 0.62797999]), 'split4_test_precision_macro': array([0.54007951, 0.59932166, 0.60256706, 0.59941337, 0.59420927,\n       0.34417447, 0.47827984, 0.56215475, 0.59301067, 0.60640006]), 'split5_test_precision_macro': array([0.54254529, 0.61865977, 0.6244985 , 0.62340007, 0.63363846,\n       0.3513118 , 0.48898933, 0.56293775, 0.59360874, 0.60229838]), 'split6_test_precision_macro': array([0.58283738, 0.6452106 , 0.64518812, 0.64900395, 0.63720477,\n       0.36130577, 0.51845321, 0.60089195, 0.6298641 , 0.64661953]), 'split7_test_precision_macro': array([0.58148918, 0.6430661 , 0.64502525, 0.64690799, 0.64571552,\n       0.35439817, 0.51913556, 0.61098576, 0.63384867, 0.64103877]), 'split8_test_precision_macro': array([0.57514332, 0.63141912, 0.64128465, 0.63711173, 0.63540249,\n       0.32979595, 0.49732369, 0.60099885, 0.62853612, 0.64666669]), 'split9_test_precision_macro': array([0.4912999 , 0.53849961, 0.54705898, 0.54334865, 0.54067412,\n       0.29472018, 0.44184081, 0.51904238, 0.53961866, 0.55183642]), 'mean_test_precision_macro': array([0.54108245, 0.60144853, 0.60514008, 0.60324876, 0.59988147,\n       0.33889359, 0.48098566, 0.56334099, 0.589709  , 0.60021528]), 'std_test_precision_macro': array([0.03526532, 0.0405107 , 0.04229014, 0.04222148, 0.04358201,\n       0.0207791 , 0.03022329, 0.03804309, 0.04196528, 0.04423118]), 'rank_test_precision_macro': array([ 8,  3,  1,  2,  5, 10,  9,  7,  6,  4], dtype=int32), 'split0_test_recall_macro': array([0.4941492 , 0.4963404 , 0.4702446 , 0.45927931, 0.44453444,\n       0.33438779, 0.46869651, 0.5029615 , 0.49477235, 0.49076817]), 'split1_test_recall_macro': array([0.54454653, 0.56103264, 0.54411125, 0.52934002, 0.51346759,\n       0.35149588, 0.51898672, 0.5712877 , 0.5694478 , 0.56034469]), 'split2_test_recall_macro': array([0.56844302, 0.57890556, 0.56091948, 0.54396634, 0.53028437,\n       0.36162821, 0.53683408, 0.58343703, 0.59005854, 0.582645  ]), 'split3_test_recall_macro': array([0.57108192, 0.59589382, 0.56724576, 0.54835786, 0.53699678,\n       0.36876554, 0.53842833, 0.59476963, 0.60381938, 0.6007722 ]), 'split4_test_recall_macro': array([0.55661623, 0.57667971, 0.55716249, 0.54028621, 0.5263371 ,\n       0.36147803, 0.52856124, 0.58041976, 0.58732621, 0.58268065]), 'split5_test_recall_macro': array([0.56040244, 0.58407394, 0.56756509, 0.55199625, 0.53901096,\n       0.37048187, 0.53887451, 0.58914187, 0.59361348, 0.58876244]), 'split6_test_recall_macro': array([0.60386833, 0.61908276, 0.59237549, 0.57814522, 0.56829646,\n       0.4074496 , 0.58056135, 0.62301627, 0.62428948, 0.62201977]), 'split7_test_recall_macro': array([0.61194116, 0.62349764, 0.61170928, 0.59910557, 0.58848745,\n       0.39855965, 0.57630933, 0.63888604, 0.64255217, 0.63772622]), 'split8_test_recall_macro': array([0.59402172, 0.60849245, 0.59047322, 0.57558806, 0.56626939,\n       0.37282421, 0.56419651, 0.62863767, 0.63421541, 0.63281703]), 'split9_test_recall_macro': array([0.52722071, 0.53131279, 0.51449974, 0.50172628, 0.49475168,\n       0.31293783, 0.49101566, 0.54271391, 0.54403026, 0.54234839]), 'mean_test_recall_macro': array([0.56319493, 0.57749515, 0.55759165, 0.54274024, 0.5308008 ,\n       0.36398805, 0.53421513, 0.58548723, 0.58836837, 0.58404169]), 'std_test_recall_macro': array([0.03396737, 0.03767245, 0.03886665, 0.03804445, 0.03895336,\n       0.02621231, 0.03360346, 0.0388627 , 0.04206989, 0.04245676]), 'rank_test_recall_macro': array([ 5,  4,  6,  7,  9, 10,  8,  2,  1,  3], dtype=int32), 'split0_test_f1_macro': array([0.4733051 , 0.49641911, 0.47576059, 0.4685782 , 0.4552514 ,\n       0.28111691, 0.42601351, 0.48148783, 0.48613011, 0.48617007]), 'split1_test_f1_macro': array([0.5250074 , 0.56237238, 0.55313966, 0.53919614, 0.52559482,\n       0.3039712 , 0.48083315, 0.55587617, 0.56380458, 0.55997187]), 'split2_test_f1_macro': array([0.54967898, 0.5849357 , 0.57078041, 0.55669555, 0.54541273,\n       0.31238845, 0.4937382 , 0.56841968, 0.58517904, 0.58392445]), 'split3_test_f1_macro': array([0.55754019, 0.59777231, 0.57599846, 0.56079434, 0.55147096,\n       0.32244117, 0.49979297, 0.57996251, 0.60116138, 0.6020871 ]), 'split4_test_f1_macro': array([0.54050612, 0.57726639, 0.5641222 , 0.5523126 , 0.54022126,\n       0.3129347 , 0.48824505, 0.5655098 , 0.58267933, 0.58341814]), 'split5_test_f1_macro': array([0.54559726, 0.59026141, 0.57997148, 0.56743202, 0.5573398 ,\n       0.31716265, 0.49982264, 0.57142982, 0.58812565, 0.58862402]), 'split6_test_f1_macro': array([0.58483574, 0.62163667, 0.60374297, 0.59235182, 0.58305783,\n       0.33121645, 0.53155549, 0.60647803, 0.62099437, 0.62579788]), 'split7_test_f1_macro': array([0.58831664, 0.62469261, 0.61642317, 0.60759199, 0.59749996,\n       0.32711483, 0.53105518, 0.61925787, 0.63372686, 0.63354921]), 'split8_test_f1_macro': array([0.57915685, 0.61359395, 0.6038924 , 0.59152449, 0.58460805,\n       0.29915549, 0.51079205, 0.6089016 , 0.62535669, 0.63273521]), 'split9_test_f1_macro': array([0.49793223, 0.52726158, 0.51796294, 0.50751788, 0.50164439,\n       0.25931153, 0.44965251, 0.52283718, 0.53553783, 0.53947696]), 'mean_test_f1_macro': array([0.54415482, 0.57958554, 0.56613995, 0.55436002, 0.54416705,\n       0.30667935, 0.49112232, 0.56797682, 0.582226  , 0.5835281 ]), 'std_test_f1_macro': array([0.03547438, 0.0392424 , 0.04044105, 0.03959134, 0.0403854 ,\n       0.020992  , 0.03138918, 0.0395291 , 0.04264902, 0.04367312]), 'rank_test_f1_macro': array([ 8,  3,  5,  6,  7, 10,  9,  4,  2,  1], dtype=int32)}\nBest params:\n{'count__analyzer': 'char', 'count__ngram_range': (1, 5)}\nBest score:\n0.718991381290268\n"
    }
   ],
   "source": [
    "tokenize_test_pipeline(model='svm')"
   ]
  },
  {
   "cell_type": "markdown",
   "execution_count": null,
   "metadata": {},
   "outputs": [],
   "source": []
  }
 ]
}